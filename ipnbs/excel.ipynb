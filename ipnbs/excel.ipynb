{
 "cells": [
  {
   "cell_type": "markdown",
   "metadata": {},
   "source": [
    "# Excel & xls\n",
    "\n",
    "* xlrd – дает возможность читать файлы Excel\n",
    "* xlwt – создание и заполнение файлов Excel\n",
    "* xlutils – набор утилит для расширения возможности предыдущих двух библиотек\n",
    "\n",
    "http://www.python-excel.org"
   ]
  },
  {
   "cell_type": "markdown",
   "metadata": {},
   "source": [
    "## Создание нового файла и заполнение его"
   ]
  },
  {
   "cell_type": "code",
   "execution_count": 1,
   "metadata": {},
   "outputs": [
    {
     "name": "stdout",
     "output_type": "stream",
     "text": [
      "Collecting xlwt\n",
      "\u001b[?25l  Downloading https://files.pythonhosted.org/packages/44/48/def306413b25c3d01753603b1a222a011b8621aed27cd7f89cbc27e6b0f4/xlwt-1.3.0-py2.py3-none-any.whl (99kB)\n",
      "\u001b[K     |████████████████████████████████| 102kB 1.6MB/s ta 0:00:01\n",
      "\u001b[?25hInstalling collected packages: xlwt\n",
      "Successfully installed xlwt-1.3.0\n",
      "\u001b[33mWARNING: You are using pip version 19.2.3, however version 20.1.1 is available.\n",
      "You should consider upgrading via the 'pip install --upgrade pip' command.\u001b[0m\n"
     ]
    }
   ],
   "source": [
    "!pip install xlwt "
   ]
  },
  {
   "cell_type": "code",
   "execution_count": 6,
   "metadata": {},
   "outputs": [],
   "source": [
    "import xlwt\n",
    "from datetime import datetime\n",
    "\n",
    "font0 = xlwt.Font()\n",
    "font0.name = 'Times New Roman'\n",
    "font0.colour_index = 2\n",
    "font0.bold = True\n",
    "\n",
    "style0 = xlwt.XFStyle()\n",
    "style0.font = font0\n",
    "\n",
    "style1 = xlwt.XFStyle()\n",
    "style1.num_format_str = 'D-MMM-YY'\n",
    "\n",
    "wb = xlwt.Workbook()\n",
    "ws = wb.add_sheet('A Test Sheet')\n",
    "\n",
    "ws.write(0, 0, 'Test', style0)\n",
    "ws.write(1, 0, datetime.now(), style1)\n",
    "ws.write(2, 0, 1)\n",
    "ws.write(2, 1, 1)\n",
    "ws.write(2, 2, xlwt.Formula(\"A3+B3\"))\n",
    "\n",
    "wb.save('../data/example.xls')"
   ]
  },
  {
   "cell_type": "markdown",
   "metadata": {},
   "source": [
    "## Чтение файла"
   ]
  },
  {
   "cell_type": "code",
   "execution_count": 4,
   "metadata": {},
   "outputs": [
    {
     "name": "stdout",
     "output_type": "stream",
     "text": [
      "Collecting xlrd\n",
      "  Using cached https://files.pythonhosted.org/packages/b0/16/63576a1a001752e34bf8ea62e367997530dc553b689356b9879339cf45a4/xlrd-1.2.0-py2.py3-none-any.whl\n",
      "Installing collected packages: xlrd\n",
      "Successfully installed xlrd-1.2.0\n",
      "\u001b[33mWARNING: You are using pip version 19.2.3, however version 20.1.1 is available.\n",
      "You should consider upgrading via the 'pip install --upgrade pip' command.\u001b[0m\n"
     ]
    }
   ],
   "source": [
    "!pip install xlrd"
   ]
  },
  {
   "cell_type": "code",
   "execution_count": 9,
   "metadata": {},
   "outputs": [
    {
     "name": "stdout",
     "output_type": "stream",
     "text": [
      "Test\n",
      "\n",
      "\n",
      "44035.77842592593\n",
      "\n",
      "\n",
      "1.0\n",
      "1.0\n",
      "\n"
     ]
    }
   ],
   "source": [
    "import xlrd\n",
    "rb = xlrd.open_workbook('../data/example.xls',formatting_info=True)\n",
    "sheet = rb.sheet_by_index(0)\n",
    "for rownum in range(sheet.nrows):\n",
    "    row = sheet.row_values(rownum)\n",
    "    for c_el in row:\n",
    "        print (c_el)"
   ]
  },
  {
   "cell_type": "code",
   "execution_count": null,
   "metadata": {},
   "outputs": [],
   "source": []
  }
 ],
 "metadata": {
  "kernelspec": {
   "display_name": "Python 3",
   "language": "python",
   "name": "python3"
  },
  "language_info": {
   "codemirror_mode": {
    "name": "ipython",
    "version": 3
   },
   "file_extension": ".py",
   "mimetype": "text/x-python",
   "name": "python",
   "nbconvert_exporter": "python",
   "pygments_lexer": "ipython3",
   "version": "3.7.6"
  }
 },
 "nbformat": 4,
 "nbformat_minor": 4
}
