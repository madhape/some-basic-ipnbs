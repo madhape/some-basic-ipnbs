{
 "cells": [
  {
   "cell_type": "markdown",
   "metadata": {},
   "source": [
    "# Давайте вспомним, что было в прошлые разы"
   ]
  },
  {
   "cell_type": "code",
   "execution_count": 14,
   "metadata": {},
   "outputs": [],
   "source": [
    "a = 5\n",
    "b = 9\n",
    "c = 'капбара'"
   ]
  },
  {
   "cell_type": "code",
   "execution_count": 32,
   "metadata": {},
   "outputs": [
    {
     "data": {
      "text/plain": [
       "['к', 'пб', 'р', '']"
      ]
     },
     "execution_count": 32,
     "metadata": {},
     "output_type": "execute_result"
    }
   ],
   "source": [
    "c.split('а')"
   ]
  },
  {
   "cell_type": "code",
   "execution_count": 33,
   "metadata": {},
   "outputs": [],
   "source": [
    "d = 'ford,\"ff,f,f\",3000.0'"
   ]
  },
  {
   "cell_type": "code",
   "execution_count": 34,
   "metadata": {},
   "outputs": [
    {
     "data": {
      "text/plain": [
       "['ford', '\"ff', 'f', 'f\"', '3000.0']"
      ]
     },
     "execution_count": 34,
     "metadata": {},
     "output_type": "execute_result"
    }
   ],
   "source": [
    "d.split(',')"
   ]
  },
  {
   "cell_type": "code",
   "execution_count": 16,
   "metadata": {},
   "outputs": [
    {
     "data": {
      "text/plain": [
       "str"
      ]
     },
     "execution_count": 16,
     "metadata": {},
     "output_type": "execute_result"
    }
   ],
   "source": [
    "#Какой тип у a?\n",
    "type(c)"
   ]
  },
  {
   "cell_type": "code",
   "execution_count": 17,
   "metadata": {},
   "outputs": [
    {
     "data": {
      "text/plain": [
       "['к', 'а', 'п', 'б', 'а', 'р', 'а']"
      ]
     },
     "execution_count": 17,
     "metadata": {},
     "output_type": "execute_result"
    }
   ],
   "source": [
    "#Создвйте список с отдельными буквами из с\n",
    "l = []\n",
    "for i in c:\n",
    "    l.append(i)\n",
    "l    "
   ]
  },
  {
   "cell_type": "code",
   "execution_count": 18,
   "metadata": {},
   "outputs": [
    {
     "name": "stdout",
     "output_type": "stream",
     "text": [
      "Гласная!\n",
      "Гласная!\n",
      "Гласная!\n"
     ]
    },
    {
     "data": {
      "text/plain": [
       "['к', 'а', 'п', 'б', 'а', 'р', 'а']"
      ]
     },
     "execution_count": 18,
     "metadata": {},
     "output_type": "execute_result"
    }
   ],
   "source": [
    "#Если буква гласная, то напишите об этом\n",
    "import re\n",
    "l = []\n",
    "for i in c:\n",
    "    if re.match('[аАиИыЫуУоО]{1}', i):\n",
    "        print('Гласная!')\n",
    "    l.append(i)\n",
    "l"
   ]
  },
  {
   "cell_type": "code",
   "execution_count": null,
   "metadata": {},
   "outputs": [],
   "source": [
    "#Напишите функцию, которая принимает на вход строку, разбирает ее на буквы, и делает из них список\n",
    "def hi(name):\n",
    "    print('Hi, {name}!'.format(name = name))\n",
    "\n",
    "hi('капибара')"
   ]
  },
  {
   "cell_type": "code",
   "execution_count": 54,
   "metadata": {},
   "outputs": [
    {
     "data": {
      "text/plain": [
       "'j'"
      ]
     },
     "execution_count": 54,
     "metadata": {},
     "output_type": "execute_result"
    }
   ],
   "source": [
    "input_string = 'kjfdklfjkjf'\n",
    "input_string[1]"
   ]
  },
  {
   "cell_type": "code",
   "execution_count": 70,
   "metadata": {},
   "outputs": [
    {
     "name": "stdout",
     "output_type": "stream",
     "text": [
      "к\n",
      "о\n",
      "п\n",
      "и\n",
      "б\n",
      "а\n",
      "р\n",
      "а\n",
      "['к', 'о', 'п', 'и', 'б', 'а', 'р', 'а']\n",
      "['к', 'о', 'п', 'и', 'б', 'а', 'р', 'а']\n"
     ]
    }
   ],
   "source": [
    "input_string = 'копибара'\n",
    "a = []\n",
    "for i in input_string:\n",
    "    print(i)\n",
    "    a.append(i)\n",
    "print(a) \n",
    "\n",
    "def hi(input_string):\n",
    "    a = []\n",
    "    for i in input_string:\n",
    "        a.append(i)\n",
    "    print(a) \n",
    "    \n",
    "hi(input_string)    "
   ]
  },
  {
   "cell_type": "code",
   "execution_count": 58,
   "metadata": {},
   "outputs": [
    {
     "data": {
      "text/plain": [
       "[]"
      ]
     },
     "execution_count": 58,
     "metadata": {},
     "output_type": "execute_result"
    }
   ],
   "source": [
    "input_string"
   ]
  },
  {
   "cell_type": "markdown",
   "metadata": {},
   "source": [
    "# Работа с файлами"
   ]
  },
  {
   "cell_type": "code",
   "execution_count": 2,
   "metadata": {},
   "outputs": [
    {
     "name": "stdout",
     "output_type": "stream",
     "text": [
      "total 948696\r\n",
      "drwxr-xr-x@  32 madhape  staff   1.0K Feb 13 21:33 \u001b[34m.\u001b[m\u001b[m\r\n",
      "drwxr-xr-x@ 115 madhape  staff   3.6K Feb 11 17:00 \u001b[34m..\u001b[m\u001b[m\r\n",
      "drwxr-xr-x@  12 madhape  staff   384B Feb 11 19:30 \u001b[34m.ipynb_checkpoints\u001b[m\u001b[m\r\n",
      "-rwxr--r--@   1 madhape  staff   323K Mar  6  2019 \u001b[31m01_pop.tsv\u001b[m\u001b[m\r\n",
      "-rwxr--r--@   1 madhape  staff    13K Feb 11 20:29 \u001b[31m15 - Python Data Types 101.ipynb\u001b[m\u001b[m\r\n",
      "-rw-r--r--@   1 madhape  staff    26K Feb 11 21:27 16 - Python Data Types, Conditions, Functions.ipynb\r\n",
      "-rw-r--r--@   1 madhape  staff    58K Feb 13 21:33 17 - Python Get The Data.ipynb\r\n",
      "-rw-r--r--@   1 madhape  staff    31K Aug 20 20:59 18 - Python Process The Data.ipynb\r\n",
      "-rw-r--r--@   1 madhape  staff   868K Aug 22 17:27 19 - Python Todoist.ipynb\r\n",
      "-rw-r--r--@   1 madhape  staff   667K Aug 23 12:50 19 - Python Viz The Data.ipynb\r\n",
      "-rw-r--r--@   1 madhape  staff   3.1K Aug  8  2019 Untitled.ipynb\r\n",
      "drwxr-xr-x@   4 madhape  staff   128B Feb  6 13:58 \u001b[34malice\u001b[m\u001b[m\r\n",
      "-rw-rw-r--@   1 madhape  staff   359K Jul  7  2008 arial.ttf\r\n",
      "-rw-r--r--@   1 madhape  staff   292K Feb  6 19:16 blurred.png\r\n",
      "-rw-r--r--@   1 madhape  staff   1.0M Aug 14  2019 bot.log\r\n",
      "-rw-r--r--@   1 madhape  staff   859B Aug 13  2019 bot.py\r\n",
      "-rw-r--r--@   1 madhape  staff   824B Aug 14  2019 bot_v0.py\r\n",
      "-rw-r--r--@   1 madhape  staff   380K Feb  6 19:25 cat.jpg\r\n",
      "-rw-r--r--@   1 madhape  staff   3.1K Feb 11 21:28 emoji.ipynb\r\n",
      "-rw-r--r--@   1 madhape  staff    54K Feb  3 15:50 image.png\r\n",
      "-rw-r--r--@   1 madhape  staff    56K Feb  6 19:46 marked_image.png\r\n",
      "-rw-r--r--@   1 madhape  staff   113B Aug 15  2019 my_file.txt\r\n",
      "-rw-r--r--@   1 madhape  staff   8.0K Aug 20 19:20 mydatabase.db\r\n",
      "-rw-r--r--@   1 madhape  staff   8.0K Aug 20 20:35 mydatabase2.db\r\n",
      "-rw-r--r--@   1 madhape  staff   457M Aug 20 21:39 otus_1.mov\r\n",
      "-rw-r--r--@   1 madhape  staff   4.8K Feb  6 22:01 pillow.ipynb\r\n",
      "-rw-r--r--@   1 madhape  staff   508B Aug 16  2019 sample.log\r\n",
      "-rw-r--r--@   1 madhape  staff    35B Aug 15  2019 test.txt\r\n",
      "-rw-r--r--@   1 madhape  staff     9B Aug 15  2019 test2.txt\r\n",
      "-rw-r--r--@   1 madhape  staff     9B Feb 13 20:42 test3.txt\r\n",
      "-rw-r--r--@   1 madhape  staff   2.5M Feb  6 22:00 text.png\r\n",
      "drwxr-xr-x@   8 madhape  staff   256B Nov  2 10:11 \u001b[34mtodoist\u001b[m\u001b[m\r\n"
     ]
    }
   ],
   "source": [
    "!ls -lah"
   ]
  },
  {
   "cell_type": "code",
   "execution_count": 3,
   "metadata": {},
   "outputs": [],
   "source": [
    "with open('test4.txt', 'w', encoding='utf-8') as f:\n",
    "    f.write(\"hjhkhkjhk\")"
   ]
  },
  {
   "cell_type": "code",
   "execution_count": 16,
   "metadata": {},
   "outputs": [
    {
     "name": "stdout",
     "output_type": "stream",
     "text": [
      "hjhkhkjhk"
     ]
    }
   ],
   "source": [
    "!cat my_file.txt"
   ]
  },
  {
   "cell_type": "code",
   "execution_count": null,
   "metadata": {},
   "outputs": [],
   "source": [
    "!touch my_file.txt"
   ]
  },
  {
   "cell_type": "code",
   "execution_count": 14,
   "metadata": {},
   "outputs": [
    {
     "name": "stdout",
     "output_type": "stream",
     "text": [
      "\n"
     ]
    }
   ],
   "source": [
    "#можно прочитать файл целиком\n",
    "f = open('my_file.txt', 'r+')\n",
    "text = f.read()\n",
    "print(text)\n",
    "f.write(\"hjhkhkjhk\")\n",
    "f.close()"
   ]
  },
  {
   "cell_type": "code",
   "execution_count": 17,
   "metadata": {},
   "outputs": [
    {
     "name": "stdout",
     "output_type": "stream",
     "text": [
      "hjhkhkjhk\n"
     ]
    }
   ],
   "source": [
    "#можно работать с файлами построчно\n",
    "with open('my_file.txt', 'r', encoding='utf-8') as f:\n",
    "    for line in f:\n",
    "        print(line)"
   ]
  },
  {
   "cell_type": "code",
   "execution_count": 18,
   "metadata": {},
   "outputs": [
    {
     "ename": "UnsupportedOperation",
     "evalue": "not readable",
     "output_type": "error",
     "traceback": [
      "\u001b[0;31m---------------------------------------------------------------------------\u001b[0m",
      "\u001b[0;31mUnsupportedOperation\u001b[0m                      Traceback (most recent call last)",
      "\u001b[0;32m<ipython-input-18-960c2938b688>\u001b[0m in \u001b[0;36m<module>\u001b[0;34m\u001b[0m\n\u001b[1;32m      1\u001b[0m \u001b[0;31m#форматы файлов: csv\u001b[0m\u001b[0;34m\u001b[0m\u001b[0;34m\u001b[0m\u001b[0;34m\u001b[0m\u001b[0m\n\u001b[1;32m      2\u001b[0m \u001b[0;32mwith\u001b[0m \u001b[0mopen\u001b[0m\u001b[0;34m(\u001b[0m\u001b[0;34m'csv_file,csv'\u001b[0m\u001b[0;34m,\u001b[0m \u001b[0;34m'w'\u001b[0m\u001b[0;34m,\u001b[0m \u001b[0mencoding\u001b[0m\u001b[0;34m=\u001b[0m\u001b[0;34m'utf-8'\u001b[0m\u001b[0;34m)\u001b[0m \u001b[0;32mas\u001b[0m \u001b[0mf\u001b[0m\u001b[0;34m:\u001b[0m\u001b[0;34m\u001b[0m\u001b[0;34m\u001b[0m\u001b[0m\n\u001b[0;32m----> 3\u001b[0;31m     \u001b[0;32mfor\u001b[0m \u001b[0mline\u001b[0m \u001b[0;32min\u001b[0m \u001b[0mf\u001b[0m\u001b[0;34m:\u001b[0m\u001b[0;34m\u001b[0m\u001b[0;34m\u001b[0m\u001b[0m\n\u001b[0m\u001b[1;32m      4\u001b[0m         \u001b[0mprint\u001b[0m\u001b[0;34m(\u001b[0m\u001b[0mline\u001b[0m\u001b[0;34m)\u001b[0m\u001b[0;34m\u001b[0m\u001b[0;34m\u001b[0m\u001b[0m\n",
      "\u001b[0;31mUnsupportedOperation\u001b[0m: not readable"
     ]
    }
   ],
   "source": [
    "#форматы файлов: csv\n",
    "with open('csv_file,csv', 'w', encoding='utf-8') as f:\n",
    "    for line in f:\n",
    "        print(line)"
   ]
  },
  {
   "cell_type": "markdown",
   "metadata": {},
   "source": [
    "# Логирование"
   ]
  },
  {
   "cell_type": "code",
   "execution_count": 20,
   "metadata": {},
   "outputs": [],
   "source": [
    "import logging\n",
    "\n",
    "logging.basicConfig(filename=\"sample.log\", level=logging.INFO)\n",
    "\n",
    "logging.debug(\"This is a debug message\")\n",
    "logging.info(\"Informational message\")\n",
    "logging.error(\"An error has happened!\")"
   ]
  },
  {
   "cell_type": "code",
   "execution_count": 21,
   "metadata": {},
   "outputs": [
    {
     "name": "stdout",
     "output_type": "stream",
     "text": [
      "INFO:root:Informational message\r\n",
      "ERROR:root:An error has happened!\r\n",
      "INFO:root:Informational message\r\n",
      "ERROR:root:An error has happened!\r\n",
      "ERROR:root:Invalid alias: The name clear can't be aliased because it is another magic command.\r\n",
      "ERROR:root:Invalid alias: The name more can't be aliased because it is another magic command.\r\n",
      "ERROR:root:Invalid alias: The name less can't be aliased because it is another magic command.\r\n",
      "ERROR:root:Invalid alias: The name man can't be aliased because it is another magic command.\r\n",
      "INFO:root:Informational message\r\n",
      "ERROR:root:An error has happened!\r\n"
     ]
    }
   ],
   "source": [
    "!cat sample.log"
   ]
  },
  {
   "cell_type": "markdown",
   "metadata": {},
   "source": [
    "# API Todoist\n",
    "Todoist - популярный сервис для управления задачами  \n",
    "Ссылка на описание: https://developer.todoist.com/sync/v7/"
   ]
  },
  {
   "cell_type": "code",
   "execution_count": null,
   "metadata": {
    "scrolled": true
   },
   "outputs": [],
   "source": [
    "#устанавливаем  модуль \n",
    "!pip install todoist-python"
   ]
  },
  {
   "cell_type": "code",
   "execution_count": 82,
   "metadata": {},
   "outputs": [],
   "source": [
    "#импортируем \n",
    "from todoist.api import TodoistAPI"
   ]
  },
  {
   "cell_type": "code",
   "execution_count": 48,
   "metadata": {},
   "outputs": [],
   "source": [
    "#из веб-интерфейса (Settings -> Integrations) копируем токен\n",
    "token = 'token'"
   ]
  },
  {
   "cell_type": "code",
   "execution_count": 83,
   "metadata": {},
   "outputs": [],
   "source": [
    "api = TodoistAPI(token)"
   ]
  },
  {
   "cell_type": "code",
   "execution_count": 84,
   "metadata": {},
   "outputs": [
    {
     "data": {
      "text/plain": [
       "{'full_sync': False,\n",
       " 'temp_id_mapping': {},\n",
       " 'labels': [],\n",
       " 'project_notes': [],\n",
       " 'filters': [],\n",
       " 'sync_token': '2XF4KNPNLIi5rEeYPUj1BSLBJ_JNDCzAKpT21aiwx3ldNneoZQF07lZmu58nRoBntLZivi99bV-tr5FlWAylovodFJ4FUS2ulzYY5sBR2uEv',\n",
       " 'day_orders': {},\n",
       " 'projects': [],\n",
       " 'collaborators': [],\n",
       " 'day_orders_timestamp': '1560634248.29',\n",
       " 'live_notifications_last_read_id': 2224576146,\n",
       " 'items': [],\n",
       " 'notes': [],\n",
       " 'reminders': [],\n",
       " 'due_exceptions': [],\n",
       " 'live_notifications': [],\n",
       " 'sections': [],\n",
       " 'collaborator_states': []}"
      ]
     },
     "execution_count": 84,
     "metadata": {},
     "output_type": "execute_result"
    }
   ],
   "source": [
    "api.sync()"
   ]
  },
  {
   "cell_type": "code",
   "execution_count": 85,
   "metadata": {},
   "outputs": [
    {
     "data": {
      "text/plain": [
       "'Owlkin'"
      ]
     },
     "execution_count": 85,
     "metadata": {},
     "output_type": "execute_result"
    }
   ],
   "source": [
    "full_name = api.state['user']['full_name']\n",
    "full_name"
   ]
  },
  {
   "cell_type": "code",
   "execution_count": 86,
   "metadata": {},
   "outputs": [
    {
     "name": "stdout",
     "output_type": "stream",
     "text": [
      "Team Inbox\n",
      "Inbox\n",
      "HR Porn Podcast\n",
      "HRporn\n",
      "Запись подкаста\n",
      "Event Box\n",
      "EDU\n",
      "Just Tasks\n",
      "Купить\n",
      "МТС\n",
      "DS Tools\n",
      "Crawling\n",
      "DQ\n",
      "DataFest 2019 MTS\n",
      "Спасите котика\n",
      "Learn Python & Co\n",
      "Learn Python 13\n",
      "me\n",
      "weekly review\n",
      "Stratoplan Dir\n",
      "Language learning\n",
      "HSE\n",
      "networking\n",
      "Pyladies Moscow\n",
      "PyLadies Meetup 04\n",
      "PyLadies Workshop 01\n",
      "PyLadies Meetup 05\n",
      "blog.madhape.xyz\n",
      "2down\n",
      "Camp NaNoWriMo 2019\n",
      "Wacken 2019\n",
      "Project4OtusDemo\n",
      "Project4OtusDemo\n"
     ]
    }
   ],
   "source": [
    "for project in api.state['projects']:\n",
    "    print(project['name'])"
   ]
  },
  {
   "cell_type": "code",
   "execution_count": 87,
   "metadata": {},
   "outputs": [
    {
     "name": "stdout",
     "output_type": "stream",
     "text": [
      "Project({'child_order': 21,\n",
      " 'collapsed': 0,\n",
      " 'color': 47,\n",
      " 'id': 2215534515,\n",
      " 'is_archived': 0,\n",
      " 'is_deleted': 0,\n",
      " 'is_favorite': 0,\n",
      " 'name': 'Project4OtusDemo2',\n",
      " 'parent_id': None,\n",
      " 'shared': False})\n"
     ]
    }
   ],
   "source": [
    "project = api.projects.add('Project4OtusDemo2')\n",
    "api.commit()\n",
    "print(project)"
   ]
  },
  {
   "cell_type": "code",
   "execution_count": 88,
   "metadata": {},
   "outputs": [
    {
     "ename": "SyncError",
     "evalue": "('a5a7fe12-bf88-11e9-add0-784f438c6b59', {'error_tag': 'MAX_ITEMS_LIMIT_REACHED', 'error_code': 49, 'http_code': 403, 'error_extra': {}, 'error': 'Maximum number of items per user project limit reached'})",
     "output_type": "error",
     "traceback": [
      "\u001b[0;31m---------------------------------------------------------------------------\u001b[0m",
      "\u001b[0;31mSyncError\u001b[0m                                 Traceback (most recent call last)",
      "\u001b[0;32m<ipython-input-88-6ceeb6beaacf>\u001b[0m in \u001b[0;36m<module>\u001b[0;34m\u001b[0m\n\u001b[1;32m      1\u001b[0m \u001b[0mtask1\u001b[0m \u001b[0;34m=\u001b[0m \u001b[0mapi\u001b[0m\u001b[0;34m.\u001b[0m\u001b[0mitems\u001b[0m\u001b[0;34m.\u001b[0m\u001b[0madd\u001b[0m\u001b[0;34m(\u001b[0m\u001b[0;34m'Task2'\u001b[0m\u001b[0;34m)\u001b[0m\u001b[0;34m\u001b[0m\u001b[0;34m\u001b[0m\u001b[0m\n\u001b[0;32m----> 2\u001b[0;31m \u001b[0mapi\u001b[0m\u001b[0;34m.\u001b[0m\u001b[0mcommit\u001b[0m\u001b[0;34m(\u001b[0m\u001b[0;34m)\u001b[0m\u001b[0;34m\u001b[0m\u001b[0;34m\u001b[0m\u001b[0m\n\u001b[0m\u001b[1;32m      3\u001b[0m \u001b[0mprint\u001b[0m\u001b[0;34m(\u001b[0m\u001b[0mtask1\u001b[0m\u001b[0;34m)\u001b[0m\u001b[0;34m\u001b[0m\u001b[0;34m\u001b[0m\u001b[0m\n",
      "\u001b[0;32m~/anaconda3/lib/python3.7/site-packages/todoist/api.py\u001b[0m in \u001b[0;36mcommit\u001b[0;34m(self, raise_on_error)\u001b[0m\n\u001b[1;32m    355\u001b[0m                 \u001b[0;32mfor\u001b[0m \u001b[0mk\u001b[0m\u001b[0;34m,\u001b[0m \u001b[0mv\u001b[0m \u001b[0;32min\u001b[0m \u001b[0mret\u001b[0m\u001b[0;34m[\u001b[0m\u001b[0;34m'sync_status'\u001b[0m\u001b[0;34m]\u001b[0m\u001b[0;34m.\u001b[0m\u001b[0mitems\u001b[0m\u001b[0;34m(\u001b[0m\u001b[0;34m)\u001b[0m\u001b[0;34m:\u001b[0m\u001b[0;34m\u001b[0m\u001b[0;34m\u001b[0m\u001b[0m\n\u001b[1;32m    356\u001b[0m                     \u001b[0;32mif\u001b[0m \u001b[0mv\u001b[0m \u001b[0;34m!=\u001b[0m \u001b[0;34m'ok'\u001b[0m\u001b[0;34m:\u001b[0m\u001b[0;34m\u001b[0m\u001b[0;34m\u001b[0m\u001b[0m\n\u001b[0;32m--> 357\u001b[0;31m                         \u001b[0;32mraise\u001b[0m \u001b[0mSyncError\u001b[0m\u001b[0;34m(\u001b[0m\u001b[0mk\u001b[0m\u001b[0;34m,\u001b[0m \u001b[0mv\u001b[0m\u001b[0;34m)\u001b[0m\u001b[0;34m\u001b[0m\u001b[0;34m\u001b[0m\u001b[0m\n\u001b[0m\u001b[1;32m    358\u001b[0m         \u001b[0;32mreturn\u001b[0m \u001b[0mret\u001b[0m\u001b[0;34m\u001b[0m\u001b[0;34m\u001b[0m\u001b[0m\n\u001b[1;32m    359\u001b[0m \u001b[0;34m\u001b[0m\u001b[0m\n",
      "\u001b[0;31mSyncError\u001b[0m: ('a5a7fe12-bf88-11e9-add0-784f438c6b59', {'error_tag': 'MAX_ITEMS_LIMIT_REACHED', 'error_code': 49, 'http_code': 403, 'error_extra': {}, 'error': 'Maximum number of items per user project limit reached'})"
     ]
    }
   ],
   "source": [
    "task1 = api.items.add('Task2')\n",
    "api.commit()\n",
    "print(task1)"
   ]
  },
  {
   "cell_type": "markdown",
   "metadata": {},
   "source": [
    "# REST API"
   ]
  },
  {
   "cell_type": "code",
   "execution_count": 22,
   "metadata": {},
   "outputs": [
    {
     "name": "stdout",
     "output_type": "stream",
     "text": [
      "Requirement already satisfied: requests in /Users/madhape/envs/py3_otus_it_recr_202002/lib/python3.7/site-packages (2.22.0)\n",
      "Requirement already satisfied: chardet<3.1.0,>=3.0.2 in /Users/madhape/envs/py3_otus_it_recr_202002/lib/python3.7/site-packages (from requests) (3.0.4)\n",
      "Requirement already satisfied: urllib3!=1.25.0,!=1.25.1,<1.26,>=1.21.1 in /Users/madhape/envs/py3_otus_it_recr_202002/lib/python3.7/site-packages (from requests) (1.25.8)\n",
      "Requirement already satisfied: idna<2.9,>=2.5 in /Users/madhape/envs/py3_otus_it_recr_202002/lib/python3.7/site-packages (from requests) (2.8)\n",
      "Requirement already satisfied: certifi>=2017.4.17 in /Users/madhape/envs/py3_otus_it_recr_202002/lib/python3.7/site-packages (from requests) (2019.11.28)\n"
     ]
    }
   ],
   "source": [
    "!pip install requests"
   ]
  },
  {
   "cell_type": "code",
   "execution_count": 25,
   "metadata": {},
   "outputs": [],
   "source": [
    "import requests"
   ]
  },
  {
   "cell_type": "code",
   "execution_count": 26,
   "metadata": {},
   "outputs": [
    {
     "name": "stdout",
     "output_type": "stream",
     "text": [
      "\n",
      "<!doctype html>\n",
      "<html>\n",
      "<head>\n",
      "  <meta http-equiv=\"Content-Type\" content=\"text/html; charset=UTF-8\" />\n",
      "  <link rel=\"stylesheet\" type=\"text/css\" href=\"/bootstrap.min.css\" />\n",
      "  <link rel=\"stylesheet\" type=\"text/css\" href=\"/style.css\" />\n",
      "\n",
      "  <title>open-notify.org APIs</title>\n",
      "</head>\n",
      "<body>\n",
      "\n",
      "  <div id=\"wrapper\">\n",
      "  <div id=\"content\">\n",
      "  <div id=\"header\">\n",
      "    <div class=\"container\">\n",
      "      <div class=\"navbar\">\n",
      "        <a class=\"brand\" href=\"http://www.open-notify.org\">Open Notify</a>\n",
      "        <h2>API Server</h2>\n",
      "      </div>\n",
      "    </div>\n",
      "  </div>\n",
      "\n",
      "  <div class=\"container\">\n",
      "    <div class=\"page-header\">\n",
      "      <h3>Current APIs:</h3>\n",
      "    </div>\n",
      "    <div class=\"row\">\n",
      "      <div class=\"span12\">\n",
      "\n",
      "        <h4>JSON</h4>\n",
      "        <p>\n",
      "          <table class=\"table table-bordered table-striped\">\n",
      "            <thead>\n",
      "              <tr>\n",
      "                <th>Name</th>\n",
      "                <th>Description</th>\n",
      "                <th>Documentation</th>\n",
      "              </tr>\n",
      "            </thead> \n",
      "\n",
      "            \n",
      "            <tbody>\n",
      "              <tr>\n",
      "                <td><a href=\"/iss-now.json\">ISS Location Now</a></td>\n",
      "                <td>Current ISS location over Earth (latitude/longitude)</td>\n",
      "                <td><a href=\"http://open-notify.org/Open-Notify-API/ISS-Location-Now\">ISS-Location-Now</a></td>\n",
      "              </tr>\n",
      "            </tbody>\n",
      "            \n",
      "            <tbody>\n",
      "              <tr>\n",
      "                <td><a href=\"/iss-pass.json?lat=45.0&amp;lon=-122.3\">ISS Pass Times</a></td>\n",
      "                <td>Predictions when the space station will fly over a particular location</td>\n",
      "                <td><a href=\"http://open-notify.org/Open-Notify-API/ISS-Pass-Times\">ISS-Pass-Times</a></td>\n",
      "              </tr>\n",
      "            </tbody>\n",
      "            \n",
      "            <tbody>\n",
      "              <tr>\n",
      "                <td><a href=\"/astros.json\">People in Space Right Now</a></td>\n",
      "                <td>The number of people in space at this moment. List of names when known.</td>\n",
      "                <td><a href=\"http://open-notify.org/Open-Notify-API/People-In-Space\">People-In-Space</a></td>\n",
      "              </tr>\n",
      "            </tbody>\n",
      "            \n",
      "\n",
      "          </table>\n",
      "        </p>\n",
      "      </div>\n",
      "    </div>\n",
      "\n",
      "    <div class=\"page-header\">\n",
      "      <h3>Source Code</h3>\n",
      "    </div>\n",
      "    <div class=\"row\">\n",
      "      <div class=\"span12\">\n",
      "        <p>\n",
      "          Source code for the ISS APIs: <a href=\"https://github.com/open-notify/Open-Notify-API\">github.com/open-notify/Open-Notify-API</a>\n",
      "        </p>\n",
      "      </div>\n",
      "    </div>\n",
      "\n",
      "  </div>\n",
      "  </div>\n",
      "  </div>\n",
      "  \n",
      "  <div id=\"footer\">\n",
      "    <div class=\"container\">\n",
      "      <hr />\n",
      "      Made by <a href=\"https://github.com/natronics\">@natronics</a>\n",
      "    </div>\n",
      "  </div>\n",
      "\n",
      "</body>\n",
      "</html>\n",
      "\n"
     ]
    }
   ],
   "source": [
    "request = requests.get('http://api.open-notify.org')\n",
    "print(request.text)"
   ]
  },
  {
   "cell_type": "code",
   "execution_count": 27,
   "metadata": {},
   "outputs": [
    {
     "name": "stdout",
     "output_type": "stream",
     "text": [
      "200\n"
     ]
    }
   ],
   "source": [
    "print(request.status_code)"
   ]
  },
  {
   "cell_type": "markdown",
   "metadata": {},
   "source": [
    "300\n",
    "40*\n",
    "50*"
   ]
  },
  {
   "cell_type": "code",
   "execution_count": 28,
   "metadata": {},
   "outputs": [
    {
     "name": "stdout",
     "output_type": "stream",
     "text": [
      "404\n"
     ]
    }
   ],
   "source": [
    "request2 = requests.get('http://api.open-notify.org/fake-endpoint')\n",
    "print(request2.status_code)"
   ]
  },
  {
   "cell_type": "code",
   "execution_count": 29,
   "metadata": {},
   "outputs": [
    {
     "name": "stdout",
     "output_type": "stream",
     "text": [
      "{\"people\": [{\"craft\": \"ISS\", \"name\": \"Andrew Morgan\"}, {\"craft\": \"ISS\", \"name\": \"Oleg Skripochka\"}, {\"craft\": \"ISS\", \"name\": \"Jessica Meir\"}], \"message\": \"success\", \"number\": 3}\n"
     ]
    }
   ],
   "source": [
    "people = requests.get('http://api.open-notify.org/astros.json')\n",
    "print(people.text)"
   ]
  },
  {
   "cell_type": "markdown",
   "metadata": {},
   "source": [
    "# Twitter API\n",
    "\n",
    "https://developer.twitter.com/en/docs\n",
    "https://github.com/bisguzar/twitter-scraper"
   ]
  },
  {
   "cell_type": "code",
   "execution_count": 30,
   "metadata": {},
   "outputs": [
    {
     "name": "stdout",
     "output_type": "stream",
     "text": [
      "Requirement already satisfied: twitter_scraper in /Users/madhape/envs/py3_otus_it_recr_202002/lib/python3.7/site-packages (0.4.0)\n",
      "Requirement already satisfied: MechanicalSoup in /Users/madhape/envs/py3_otus_it_recr_202002/lib/python3.7/site-packages (from twitter_scraper) (0.12.0)\n",
      "Requirement already satisfied: requests-html in /Users/madhape/envs/py3_otus_it_recr_202002/lib/python3.7/site-packages (from twitter_scraper) (0.10.0)\n",
      "Requirement already satisfied: six>=1.4 in /Users/madhape/envs/py3_otus_it_recr_202002/lib/python3.7/site-packages (from MechanicalSoup->twitter_scraper) (1.14.0)\n",
      "Requirement already satisfied: lxml in /Users/madhape/envs/py3_otus_it_recr_202002/lib/python3.7/site-packages (from MechanicalSoup->twitter_scraper) (4.5.0)\n",
      "Requirement already satisfied: beautifulsoup4>=4.4 in /Users/madhape/envs/py3_otus_it_recr_202002/lib/python3.7/site-packages (from MechanicalSoup->twitter_scraper) (4.8.2)\n",
      "Requirement already satisfied: requests>=2.0 in /Users/madhape/envs/py3_otus_it_recr_202002/lib/python3.7/site-packages (from MechanicalSoup->twitter_scraper) (2.22.0)\n",
      "Requirement already satisfied: pyquery in /Users/madhape/envs/py3_otus_it_recr_202002/lib/python3.7/site-packages (from requests-html->twitter_scraper) (1.4.1)\n",
      "Requirement already satisfied: bs4 in /Users/madhape/envs/py3_otus_it_recr_202002/lib/python3.7/site-packages (from requests-html->twitter_scraper) (0.0.1)\n",
      "Requirement already satisfied: parse in /Users/madhape/envs/py3_otus_it_recr_202002/lib/python3.7/site-packages (from requests-html->twitter_scraper) (1.14.0)\n",
      "Requirement already satisfied: pyppeteer>=0.0.14 in /Users/madhape/envs/py3_otus_it_recr_202002/lib/python3.7/site-packages (from requests-html->twitter_scraper) (0.0.25)\n",
      "Requirement already satisfied: w3lib in /Users/madhape/envs/py3_otus_it_recr_202002/lib/python3.7/site-packages (from requests-html->twitter_scraper) (1.21.0)\n",
      "Requirement already satisfied: fake-useragent in /Users/madhape/envs/py3_otus_it_recr_202002/lib/python3.7/site-packages (from requests-html->twitter_scraper) (0.1.11)\n",
      "Requirement already satisfied: soupsieve>=1.2 in /Users/madhape/envs/py3_otus_it_recr_202002/lib/python3.7/site-packages (from beautifulsoup4>=4.4->MechanicalSoup->twitter_scraper) (1.9.5)\n",
      "Requirement already satisfied: idna<2.9,>=2.5 in /Users/madhape/envs/py3_otus_it_recr_202002/lib/python3.7/site-packages (from requests>=2.0->MechanicalSoup->twitter_scraper) (2.8)\n",
      "Requirement already satisfied: chardet<3.1.0,>=3.0.2 in /Users/madhape/envs/py3_otus_it_recr_202002/lib/python3.7/site-packages (from requests>=2.0->MechanicalSoup->twitter_scraper) (3.0.4)\n",
      "Requirement already satisfied: certifi>=2017.4.17 in /Users/madhape/envs/py3_otus_it_recr_202002/lib/python3.7/site-packages (from requests>=2.0->MechanicalSoup->twitter_scraper) (2019.11.28)\n",
      "Requirement already satisfied: urllib3!=1.25.0,!=1.25.1,<1.26,>=1.21.1 in /Users/madhape/envs/py3_otus_it_recr_202002/lib/python3.7/site-packages (from requests>=2.0->MechanicalSoup->twitter_scraper) (1.25.8)\n",
      "Requirement already satisfied: cssselect>0.7.9 in /Users/madhape/envs/py3_otus_it_recr_202002/lib/python3.7/site-packages (from pyquery->requests-html->twitter_scraper) (1.1.0)\n",
      "Requirement already satisfied: pyee in /Users/madhape/envs/py3_otus_it_recr_202002/lib/python3.7/site-packages (from pyppeteer>=0.0.14->requests-html->twitter_scraper) (7.0.1)\n",
      "Requirement already satisfied: websockets in /Users/madhape/envs/py3_otus_it_recr_202002/lib/python3.7/site-packages (from pyppeteer>=0.0.14->requests-html->twitter_scraper) (8.1)\n",
      "Requirement already satisfied: appdirs in /Users/madhape/envs/py3_otus_it_recr_202002/lib/python3.7/site-packages (from pyppeteer>=0.0.14->requests-html->twitter_scraper) (1.4.3)\n",
      "Requirement already satisfied: tqdm in /Users/madhape/envs/py3_otus_it_recr_202002/lib/python3.7/site-packages (from pyppeteer>=0.0.14->requests-html->twitter_scraper) (4.42.1)\n"
     ]
    }
   ],
   "source": [
    "!pip3 install twitter_scraper"
   ]
  },
  {
   "cell_type": "code",
   "execution_count": 31,
   "metadata": {},
   "outputs": [
    {
     "name": "stdout",
     "output_type": "stream",
     "text": [
      "we LIKE like you\n",
      "If they don’t get Twitter, they don’t get you\n",
      "When @Twitter sends you a screenshot of your tweet on an actual sign in New York in the 8th Ave & 14th St. Subway Station you die of happiness!! #Lovetwitter pic.twitter.com/NTl5mZ7naS\n",
      "kissing IS hooking up\n",
      "ok it worked\n",
      "test\n",
      "Black History Month is HERE! \n",
      "\n",
      "This year, we’re also celebrating the pride and joy of our present! It's about connecting and celebrating what it means to be Black right now and amplifying our voices.  \n",
      "\n",
      "Celebrate the culture with #LoveToSeeIt! pic.twitter.com/6hqBdeiLVC\n",
      "Yes, it's still January\n",
      "One more Tweet and then it’s bedtime\n",
      "don't forget to moisturize\n",
      "I never thought it would happen but yassss it happened  @Twitter in my DM. I never esperredittt pic.twitter.com/WAd3j0n4ep\n",
      "When you want to DM someone a Tweet but haven't answered their text\n",
      "sliding into your DMs like       \n",
      "twting int hte cold\n",
      "Don't drink and Tweet\n",
      "Agreed\n",
      "return to work like you're Beyoncé's assistant\n",
      "Don’t be funnier than me in my replies or I’ll delete the whole tweet. Now no one gets to laugh\n",
      "Scrolling through Twitter is cardio\n"
     ]
    }
   ],
   "source": [
    "from twitter_scraper import get_tweets\n",
    "for tweet in get_tweets('twitter', pages=1):\n",
    "    print(tweet['text'])"
   ]
  },
  {
   "cell_type": "code",
   "execution_count": 32,
   "metadata": {},
   "outputs": [],
   "source": [
    "from twitter_scraper import Profile\n",
    "profile = Profile('madhape')"
   ]
  },
  {
   "cell_type": "code",
   "execution_count": 33,
   "metadata": {},
   "outputs": [
    {
     "data": {
      "text/plain": [
       "''"
      ]
     },
     "execution_count": 33,
     "metadata": {},
     "output_type": "execute_result"
    }
   ],
   "source": [
    "profile.location"
   ]
  },
  {
   "cell_type": "code",
   "execution_count": 34,
   "metadata": {},
   "outputs": [
    {
     "data": {
      "text/plain": [
       "'Natalia Khapaeva'"
      ]
     },
     "execution_count": 34,
     "metadata": {},
     "output_type": "execute_result"
    }
   ],
   "source": [
    "profile.name"
   ]
  },
  {
   "cell_type": "code",
   "execution_count": 35,
   "metadata": {},
   "outputs": [
    {
     "data": {
      "text/plain": [
       "'madhape'"
      ]
     },
     "execution_count": 35,
     "metadata": {},
     "output_type": "execute_result"
    }
   ],
   "source": [
    "profile.username"
   ]
  },
  {
   "cell_type": "code",
   "execution_count": 36,
   "metadata": {},
   "outputs": [
    {
     "data": {
      "text/plain": [
       "{'name': 'Natalia Khapaeva',\n",
       " 'username': 'madhape',\n",
       " 'birthday': None,\n",
       " 'biography': '',\n",
       " 'website': 'about.me/nmkh',\n",
       " 'profile_photo': 'https://pbs.twimg.com/profile_images/833966701079359488/BYCdWNBQ_400x400.jpg',\n",
       " 'likes_count': 60,\n",
       " 'tweets_count': 862,\n",
       " 'followers_count': 82,\n",
       " 'following_count': 639}"
      ]
     },
     "execution_count": 36,
     "metadata": {},
     "output_type": "execute_result"
    }
   ],
   "source": [
    "profile.to_dict()"
   ]
  },
  {
   "cell_type": "markdown",
   "metadata": {},
   "source": [
    "# Акции"
   ]
  },
  {
   "cell_type": "code",
   "execution_count": 37,
   "metadata": {},
   "outputs": [
    {
     "name": "stdout",
     "output_type": "stream",
     "text": [
      "Requirement already satisfied: yfinance in /Users/madhape/envs/py3_otus_it_recr_202002/lib/python3.7/site-packages (0.1.54)\n",
      "Requirement already satisfied: pandas>=0.24 in /Users/madhape/envs/py3_otus_it_recr_202002/lib/python3.7/site-packages (from yfinance) (1.0.1)\n",
      "Requirement already satisfied: numpy>=1.15 in /Users/madhape/envs/py3_otus_it_recr_202002/lib/python3.7/site-packages (from yfinance) (1.18.1)\n",
      "Requirement already satisfied: requests>=2.20 in /Users/madhape/envs/py3_otus_it_recr_202002/lib/python3.7/site-packages (from yfinance) (2.22.0)\n",
      "Requirement already satisfied: multitasking>=0.0.7 in /Users/madhape/envs/py3_otus_it_recr_202002/lib/python3.7/site-packages (from yfinance) (0.0.9)\n",
      "Requirement already satisfied: python-dateutil>=2.6.1 in /Users/madhape/envs/py3_otus_it_recr_202002/lib/python3.7/site-packages (from pandas>=0.24->yfinance) (2.8.1)\n",
      "Requirement already satisfied: pytz>=2017.2 in /Users/madhape/envs/py3_otus_it_recr_202002/lib/python3.7/site-packages (from pandas>=0.24->yfinance) (2019.3)\n",
      "Requirement already satisfied: chardet<3.1.0,>=3.0.2 in /Users/madhape/envs/py3_otus_it_recr_202002/lib/python3.7/site-packages (from requests>=2.20->yfinance) (3.0.4)\n",
      "Requirement already satisfied: idna<2.9,>=2.5 in /Users/madhape/envs/py3_otus_it_recr_202002/lib/python3.7/site-packages (from requests>=2.20->yfinance) (2.8)\n",
      "Requirement already satisfied: urllib3!=1.25.0,!=1.25.1,<1.26,>=1.21.1 in /Users/madhape/envs/py3_otus_it_recr_202002/lib/python3.7/site-packages (from requests>=2.20->yfinance) (1.25.8)\n",
      "Requirement already satisfied: certifi>=2017.4.17 in /Users/madhape/envs/py3_otus_it_recr_202002/lib/python3.7/site-packages (from requests>=2.20->yfinance) (2019.11.28)\n",
      "Requirement already satisfied: six>=1.5 in /Users/madhape/envs/py3_otus_it_recr_202002/lib/python3.7/site-packages (from python-dateutil>=2.6.1->pandas>=0.24->yfinance) (1.14.0)\n"
     ]
    }
   ],
   "source": [
    "!pip install yfinance"
   ]
  },
  {
   "cell_type": "code",
   "execution_count": 38,
   "metadata": {},
   "outputs": [
    {
     "name": "stdout",
     "output_type": "stream",
     "text": [
      "Requirement already satisfied: matplotlib in /Users/madhape/envs/py3_otus_it_recr_202002/lib/python3.7/site-packages (3.1.3)\n",
      "Requirement already satisfied: pyparsing!=2.0.4,!=2.1.2,!=2.1.6,>=2.0.1 in /Users/madhape/envs/py3_otus_it_recr_202002/lib/python3.7/site-packages (from matplotlib) (2.4.6)\n",
      "Requirement already satisfied: python-dateutil>=2.1 in /Users/madhape/envs/py3_otus_it_recr_202002/lib/python3.7/site-packages (from matplotlib) (2.8.1)\n",
      "Requirement already satisfied: cycler>=0.10 in /Users/madhape/envs/py3_otus_it_recr_202002/lib/python3.7/site-packages (from matplotlib) (0.10.0)\n",
      "Requirement already satisfied: numpy>=1.11 in /Users/madhape/envs/py3_otus_it_recr_202002/lib/python3.7/site-packages (from matplotlib) (1.18.1)\n",
      "Requirement already satisfied: kiwisolver>=1.0.1 in /Users/madhape/envs/py3_otus_it_recr_202002/lib/python3.7/site-packages (from matplotlib) (1.1.0)\n",
      "Requirement already satisfied: six>=1.5 in /Users/madhape/envs/py3_otus_it_recr_202002/lib/python3.7/site-packages (from python-dateutil>=2.1->matplotlib) (1.14.0)\n",
      "Requirement already satisfied: setuptools in /Users/madhape/envs/py3_otus_it_recr_202002/lib/python3.7/site-packages (from kiwisolver>=1.0.1->matplotlib) (41.2.0)\n"
     ]
    }
   ],
   "source": [
    "!pip install matplotlib"
   ]
  },
  {
   "cell_type": "code",
   "execution_count": 39,
   "metadata": {},
   "outputs": [
    {
     "name": "stdout",
     "output_type": "stream",
     "text": [
      "[*********************100%***********************]  1 of 1 completed\n"
     ]
    },
    {
     "data": {
      "image/png": "[encoded data removed]",
      "text/plain": [
       "<Figure size 432x288 with 1 Axes>"
      ]
     },
     "metadata": {
      "needs_background": "light"
     },
     "output_type": "display_data"
    }
   ],
   "source": [
    "# Import the yfinance. If you get module not found error the run !pip install yfianance from your Jupyter notebook\n",
    "import yfinance as yf\n",
    "\n",
    "# Get the data for the stock AAPL\n",
    "data = yf.download('AAPL','2016-01-01','2020-02-01')\n",
    "\n",
    "# Import the plotting library\n",
    "import matplotlib.pyplot as plt\n",
    "%matplotlib inline\n",
    "\n",
    "# Plot the close price of the AAPL\n",
    "data['Adj Close'].plot()\n",
    "plt.show()"
   ]
  },
  {
   "cell_type": "markdown",
   "metadata": {},
   "source": [
    "# Что мы можем со всем этим делать?"
   ]
  },
  {
   "cell_type": "code",
   "execution_count": null,
   "metadata": {},
   "outputs": [],
   "source": [
    "animal = input('Какое животное у тебя есть?')\n",
    "animal = animal.capitalize().strip()\n",
    "if animal.lower() == 'кот':\n",
    "    animal_action = 'спи'\n",
    "elif animal.lower() == 'собака':    \n",
    "    animal_action = 'играть'\n",
    "else:\n",
    "    animal_action = 'ты кто вообще?'\n",
    "c = '{pet}, {action}!'.format(pet=animal, action=animal_action)\n",
    "print(c)"
   ]
  },
  {
   "cell_type": "code",
   "execution_count": null,
   "metadata": {},
   "outputs": [],
   "source": [
    "phone = input('Какой у тебя телефон?')\n",
    "if re.match('[8-9]{1}[0-9]{9}', phone) and len(phone) == 10:\n",
    "    print('yes')\n",
    "else:\n",
    "    print('no')"
   ]
  },
  {
   "cell_type": "code",
   "execution_count": null,
   "metadata": {},
   "outputs": [],
   "source": []
  }
 ],
 "metadata": {
  "kernelspec": {
   "display_name": "Python 3",
   "language": "python",
   "name": "python3"
  },
  "language_info": {
   "codemirror_mode": {
    "name": "ipython",
    "version": 3
   },
   "file_extension": ".py",
   "mimetype": "text/x-python",
   "name": "python",
   "nbconvert_exporter": "python",
   "pygments_lexer": "ipython3",
   "version": "3.7.6"
  }
 },
 "nbformat": 4,
 "nbformat_minor": 2
}
