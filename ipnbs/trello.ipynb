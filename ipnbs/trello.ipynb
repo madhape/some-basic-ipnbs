{
 "cells": [
  {
   "cell_type": "markdown",
   "metadata": {},
   "source": [
    "# Создаем доску в Trello и задачи в ней"
   ]
  },
  {
   "cell_type": "code",
   "execution_count": null,
   "metadata": {},
   "outputs": [],
   "source": [
    "import os"
   ]
  },
  {
   "cell_type": "code",
   "execution_count": null,
   "metadata": {},
   "outputs": [],
   "source": [
    "import requests\n",
    "key = \"ваш ключ\"\n",
    "token = \"ваш токен\""
   ]
  },
  {
   "cell_type": "code",
   "execution_count": null,
   "metadata": {},
   "outputs": [],
   "source": [
    "def create_board(board_name):\n",
    "    url = \"https://api.trello.com/1/boards/\"\n",
    "    querystring = {\"name\": board_name, \"key\": key, \"token\": token}\n",
    "    response = requests.request(\"POST\", url, params=querystring)\n",
    "    board_id = response.json()[\"shortUrl\"].split(\"/\")[-1].strip()\n",
    "    return board_id"
   ]
  },
  {
   "cell_type": "code",
   "execution_count": null,
   "metadata": {},
   "outputs": [],
   "source": [
    "def create_list(board_id, list_name):\n",
    "    url = f\"https://api.trello.com/1/boards/{board_id}/lists\"\n",
    "    querystring = {\"name\": list_name, \"key\": key, \"token\": token}\n",
    "    response = requests.request(\"POST\", url, params=querystring)\n",
    "    list_id = response.json()[\"id\"]\n",
    "    return list_id"
   ]
  },
  {
   "cell_type": "code",
   "execution_count": null,
   "metadata": {},
   "outputs": [],
   "source": [
    "def create_card(list_id, card_name):\n",
    "    url = f\"https://api.trello.com/1/cards\"\n",
    "    querystring = {\"name\": card_name, \"idList\": list_id, \"key\": key, \"token\": token}\n",
    "    response = requests.request(\"POST\", url, params=querystring)\n",
    "    card_id = response.json()[\"id\"]\n",
    "    return card_id"
   ]
  },
  {
   "cell_type": "code",
   "execution_count": null,
   "metadata": {},
   "outputs": [],
   "source": [
    "board_id = create_board(\"Tasks_otus\")"
   ]
  },
  {
   "cell_type": "code",
   "execution_count": null,
   "metadata": {},
   "outputs": [],
   "source": [
    "for filename in os.listdir():\n",
    "    if filename.endswith(\".txt\"):\n",
    "        filename = os.path.splitext(filename)[0]\n",
    "        list_name = create_list(board_id, filename.title())\n",
    " \n",
    "        with open(f\"{filename}.txt\", \"r\") as txt_file:\n",
    "            for card_name in txt_file.readlines():\n",
    "                create_card(list_name, card_name)"
   ]
  },
  {
   "cell_type": "code",
   "execution_count": null,
   "metadata": {},
   "outputs": [],
   "source": []
  }
 ],
 "metadata": {
  "kernelspec": {
   "display_name": "Python 3",
   "language": "python",
   "name": "python3"
  },
  "language_info": {
   "codemirror_mode": {
    "name": "ipython",
    "version": 3
   },
   "file_extension": ".py",
   "mimetype": "text/x-python",
   "name": "python",
   "nbconvert_exporter": "python",
   "pygments_lexer": "ipython3",
   "version": "3.7.6"
  }
 },
 "nbformat": 4,
 "nbformat_minor": 4
}
