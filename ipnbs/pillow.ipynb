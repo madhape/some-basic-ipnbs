{
 "cells": [
  {
   "cell_type": "markdown",
   "metadata": {},
   "source": [
    "# Pillow - работа с изображениями\n",
    "\n",
    "https://github.com/python-pillow/Pillow"
   ]
  },
  {
   "cell_type": "code",
   "execution_count": 1,
   "metadata": {},
   "outputs": [
    {
     "name": "stdout",
     "output_type": "stream",
     "text": [
      "Collecting Pillow\n",
      "  Downloading Pillow-7.0.0-cp37-cp37m-macosx_10_6_intel.whl (3.9 MB)\n",
      "\u001b[K     |████████████████████████████████| 3.9 MB 778 kB/s eta 0:00:01\n",
      "\u001b[?25hInstalling collected packages: Pillow\n",
      "Successfully installed Pillow-7.0.0\n"
     ]
    }
   ],
   "source": [
    "!pip install Pillow"
   ]
  },
  {
   "cell_type": "code",
   "execution_count": 39,
   "metadata": {},
   "outputs": [],
   "source": [
    "from PIL import Image, ImageFilter"
   ]
  },
  {
   "cell_type": "code",
   "execution_count": 40,
   "metadata": {},
   "outputs": [
    {
     "data": {
      "text/plain": [
       "<PixelAccess at 0x10e040830>"
      ]
     },
     "execution_count": 40,
     "metadata": {},
     "output_type": "execute_result"
    }
   ],
   "source": [
    "myimage = Image.open('image.png')  \n",
    "myimage.load()"
   ]
  },
  {
   "cell_type": "code",
   "execution_count": 6,
   "metadata": {},
   "outputs": [
    {
     "name": "stdout",
     "output_type": "stream",
     "text": [
      "The size of the Image is: \n",
      "PNG (1725, 1163) P\n"
     ]
    }
   ],
   "source": [
    "print(\"The size of the Image is: \")  \n",
    "print(myimage.format, myimage.size, myimage.mode)"
   ]
  },
  {
   "cell_type": "markdown",
   "metadata": {},
   "source": [
    "## Размытие"
   ]
  },
  {
   "cell_type": "code",
   "execution_count": 43,
   "metadata": {},
   "outputs": [],
   "source": [
    "# размываем изображение\n",
    "blurred = myimage.convert('RGB').filter(ImageFilter.CONTOUR) \n"
   ]
  },
  {
   "cell_type": "code",
   "execution_count": 44,
   "metadata": {},
   "outputs": [],
   "source": [
    "# открываем оригинал и размтое изображение\n",
    "myimage.show()\n",
    "blurred.show()"
   ]
  },
  {
   "cell_type": "code",
   "execution_count": 14,
   "metadata": {},
   "outputs": [],
   "source": [
    "# сохраняем изображение\n",
    "blurred.save(\"blurred.png\")"
   ]
  },
  {
   "cell_type": "code",
   "execution_count": null,
   "metadata": {},
   "outputs": [],
   "source": [
    "Другие фильтры:\n",
    "BLUR\n",
    "CONTOUR\n",
    "DETAIL\n",
    "EDGE_ENHANCE\n",
    "EDGE_ENHANCE_MORE\n",
    "EMBOSS\n",
    "FIND_EDGES\n",
    "SMOOTH\n",
    "SMOOTH_MORE\n",
    "SHARPEN"
   ]
  },
  {
   "cell_type": "markdown",
   "metadata": {},
   "source": [
    "## Миниатюры"
   ]
  },
  {
   "cell_type": "code",
   "execution_count": 45,
   "metadata": {},
   "outputs": [],
   "source": [
    "size = (128, 128)"
   ]
  },
  {
   "cell_type": "code",
   "execution_count": 46,
   "metadata": {},
   "outputs": [],
   "source": [
    "size = (128, 128)\n",
    "img = Image.open('image.png')  \n",
    "#myimage.load()\n",
    "img.thumbnail(size)\n",
    "img.show()"
   ]
  },
  {
   "cell_type": "code",
   "execution_count": null,
   "metadata": {},
   "outputs": [],
   "source": [
    "# Opening the file gg.png\n",
    "imageFile = \"image.png\"\n",
    "im1=Image.open(imageFile)"
   ]
  },
  {
   "cell_type": "code",
   "execution_count": 51,
   "metadata": {},
   "outputs": [],
   "source": [
    "from PIL import Image, ImageDraw, ImageFont\n",
    "import os\n",
    "#im = Image.new('RGBA', (200, 200), 'white')\n",
    "imageFile = \"cat.jpg\"\n",
    "im=Image.open(imageFile)\n",
    "draw = ImageDraw.Draw(im)\n",
    "draw.text((20, 150), 'Hello', fill='purple')\n",
    "arialFont = ImageFont.truetype('arial.ttf', 100)\n",
    "draw.text((400, 350), 'Я кот', fill='gray', font=arialFont)\n",
    "im.save('text.png')"
   ]
  },
  {
   "cell_type": "code",
   "execution_count": 52,
   "metadata": {},
   "outputs": [],
   "source": [
    "im.show()"
   ]
  },
  {
   "cell_type": "markdown",
   "metadata": {},
   "source": [
    "Можно делать еще много чего, можно почитать, например, тут\n",
    "https://automatetheboringstuff.com/chapter17/"
   ]
  }
 ],
 "metadata": {
  "kernelspec": {
   "display_name": "Python 3",
   "language": "python",
   "name": "python3"
  },
  "language_info": {
   "codemirror_mode": {
    "name": "ipython",
    "version": 3
   },
   "file_extension": ".py",
   "mimetype": "text/x-python",
   "name": "python",
   "nbconvert_exporter": "python",
   "pygments_lexer": "ipython3",
   "version": "3.7.6"
  }
 },
 "nbformat": 4,
 "nbformat_minor": 4
}
