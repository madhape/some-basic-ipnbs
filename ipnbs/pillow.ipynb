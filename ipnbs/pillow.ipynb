{
 "cells": [
  {
   "cell_type": "markdown",
   "metadata": {},
   "source": [
    "# Pillow - работа с изображениями\n",
    "\n",
    "https://github.com/python-pillow/Pillow"
   ]
  },
  {
   "cell_type": "code",
   "execution_count": 3,
   "metadata": {},
   "outputs": [
    {
     "name": "stdout",
     "output_type": "stream",
     "text": [
      "Requirement already satisfied: Pillow in /Users/madhape/envs/py3-some-basic-ipnbs/lib/python3.7/site-packages (7.2.0)\n",
      "\u001b[33mWARNING: You are using pip version 19.2.3, however version 20.1.1 is available.\n",
      "You should consider upgrading via the 'pip install --upgrade pip' command.\u001b[0m\n"
     ]
    }
   ],
   "source": [
    "!pip3 install Pillow"
   ]
  },
  {
   "cell_type": "code",
   "execution_count": 2,
   "metadata": {},
   "outputs": [],
   "source": [
    "from PIL import Image, ImageFilter"
   ]
  },
  {
   "cell_type": "code",
   "execution_count": 5,
   "metadata": {},
   "outputs": [
    {
     "name": "stdout",
     "output_type": "stream",
     "text": [
      "/Users/madhape/Dropbox/prj/2020_some-basic-ipnbs/some-basic-ipnbs/ipnbs\r\n"
     ]
    }
   ],
   "source": [
    "!pwd"
   ]
  },
  {
   "cell_type": "code",
   "execution_count": 6,
   "metadata": {},
   "outputs": [
    {
     "data": {
      "text/plain": [
       "<PixelAccess at 0x109909490>"
      ]
     },
     "execution_count": 6,
     "metadata": {},
     "output_type": "execute_result"
    }
   ],
   "source": [
    "myimage = Image.open('cat.jpg')  \n",
    "myimage.load()"
   ]
  },
  {
   "cell_type": "code",
   "execution_count": 7,
   "metadata": {},
   "outputs": [
    {
     "name": "stdout",
     "output_type": "stream",
     "text": [
      "The size of the Image is: \n",
      "JPEG (1800, 1200) RGB\n"
     ]
    }
   ],
   "source": [
    "print(\"The size of the Image is: \")  \n",
    "print(myimage.format, myimage.size, myimage.mode)"
   ]
  },
  {
   "cell_type": "markdown",
   "metadata": {},
   "source": [
    "## Размытие"
   ]
  },
  {
   "cell_type": "code",
   "execution_count": 8,
   "metadata": {},
   "outputs": [],
   "source": [
    "# размываем изображение\n",
    "blurred = myimage.convert('RGB').filter(ImageFilter.CONTOUR) \n"
   ]
  },
  {
   "cell_type": "code",
   "execution_count": 9,
   "metadata": {},
   "outputs": [],
   "source": [
    "# открываем оригинал и размтое изображение\n",
    "myimage.show()\n",
    "blurred.show()"
   ]
  },
  {
   "cell_type": "code",
   "execution_count": 10,
   "metadata": {},
   "outputs": [],
   "source": [
    "# сохраняем изображение\n",
    "blurred.save(\"blurred.png\")"
   ]
  },
  {
   "cell_type": "code",
   "execution_count": null,
   "metadata": {},
   "outputs": [],
   "source": [
    "Другие фильтры:\n",
    "BLUR\n",
    "CONTOUR\n",
    "DETAIL\n",
    "EDGE_ENHANCE\n",
    "EDGE_ENHANCE_MORE\n",
    "EMBOSS\n",
    "FIND_EDGES\n",
    "SMOOTH\n",
    "SMOOTH_MORE\n",
    "SHARPEN"
   ]
  },
  {
   "cell_type": "markdown",
   "metadata": {},
   "source": [
    "## Миниатюры"
   ]
  },
  {
   "cell_type": "code",
   "execution_count": 11,
   "metadata": {},
   "outputs": [],
   "source": [
    "size = (128, 128)"
   ]
  },
  {
   "cell_type": "code",
   "execution_count": 14,
   "metadata": {},
   "outputs": [],
   "source": [
    "size = (128, 128)\n",
    "img = Image.open('cat.jpg')  \n",
    "#myimage.load()\n",
    "img.thumbnail(size)\n",
    "img.show()"
   ]
  },
  {
   "cell_type": "code",
   "execution_count": 15,
   "metadata": {},
   "outputs": [],
   "source": [
    "# Opening the file gg.png\n",
    "imageFile = \"cat.jpg\"\n",
    "im1=Image.open(imageFile)"
   ]
  },
  {
   "cell_type": "code",
   "execution_count": 17,
   "metadata": {},
   "outputs": [],
   "source": [
    "from PIL import Image, ImageDraw, ImageFont\n",
    "import os\n",
    "#im = Image.new('RGBA', (200, 200), 'white')\n",
    "imageFile = \"cat.jpg\"\n",
    "im=Image.open(imageFile)\n",
    "draw = ImageDraw.Draw(im)\n",
    "draw.text((20, 150), 'Hello', fill='purple')\n",
    "arialFont = ImageFont.truetype('arial.ttf', 100)\n",
    "draw.text((400, 350), 'Я кот', fill='gray', font=arialFont)\n",
    "im.save('text.png')"
   ]
  },
  {
   "cell_type": "code",
   "execution_count": 18,
   "metadata": {},
   "outputs": [],
   "source": [
    "im.show()"
   ]
  },
  {
   "cell_type": "markdown",
   "metadata": {},
   "source": [
    "Можно делать еще много чего, можно почитать, например, тут\n",
    "https://automatetheboringstuff.com/chapter17/"
   ]
  }
 ],
 "metadata": {
  "kernelspec": {
   "display_name": "Python 3",
   "language": "python",
   "name": "python3"
  },
  "language_info": {
   "codemirror_mode": {
    "name": "ipython",
    "version": 3
   },
   "file_extension": ".py",
   "mimetype": "text/x-python",
   "name": "python",
   "nbconvert_exporter": "python",
   "pygments_lexer": "ipython3",
   "version": "3.7.6"
  }
 },
 "nbformat": 4,
 "nbformat_minor": 4
}
