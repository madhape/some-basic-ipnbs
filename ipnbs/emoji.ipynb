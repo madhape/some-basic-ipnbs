{
 "cells": [
  {
   "cell_type": "markdown",
   "metadata": {},
   "source": [
    "https://pypi.org/project/emoji/"
   ]
  },
  {
   "cell_type": "code",
   "execution_count": 1,
   "metadata": {},
   "outputs": [
    {
     "name": "stdout",
     "output_type": "stream",
     "text": [
      "Collecting emoji\n",
      "  Using cached https://files.pythonhosted.org/packages/40/8d/521be7f0091fe0f2ae690cc044faf43e3445e0ff33c574eae752dd7e39fa/emoji-0.5.4.tar.gz\n",
      "Building wheels for collected packages: emoji\n",
      "  Building wheel for emoji (setup.py) ... \u001b[?25ldone\n",
      "\u001b[?25h  Created wheel for emoji: filename=emoji-0.5.4-cp37-none-any.whl size=42177 sha256=33b00c1d5c2a0cad232cac0c5261bd81b1bf6cdcb56fd87557fa321dfe55e8f4\n",
      "  Stored in directory: /Users/madhape/Library/Caches/pip/wheels/2a/a9/0a/4f8e8cce8074232aba240caca3fade315bb49fac68808d1a9c\n",
      "Successfully built emoji\n",
      "Installing collected packages: emoji\n",
      "Successfully installed emoji-0.5.4\n"
     ]
    }
   ],
   "source": [
    "!pip3 install emoji"
   ]
  },
  {
   "cell_type": "code",
   "execution_count": 2,
   "metadata": {},
   "outputs": [
    {
     "name": "stdout",
     "output_type": "stream",
     "text": [
      "😀\n",
      "😆\n",
      "🤣\n"
     ]
    }
   ],
   "source": [
    "# grinning face \n",
    "print(\"\\U0001f600\") \n",
    "  \n",
    "# grinning squinting face \n",
    "print(\"\\U0001F606\") \n",
    "  \n",
    "# rolling on the floor laughing \n",
    "print(\"\\U0001F923\") "
   ]
  },
  {
   "cell_type": "code",
   "execution_count": 3,
   "metadata": {},
   "outputs": [
    {
     "name": "stdout",
     "output_type": "stream",
     "text": [
      "😀\n",
      "🙂\n",
      "😉\n"
     ]
    }
   ],
   "source": [
    "# grinning face \n",
    "print(\"\\N{grinning face}\") \n",
    "  \n",
    "# slightly smiling face \n",
    "print(\"\\N{slightly smiling face}\") \n",
    "  \n",
    "# winking face \n",
    "print(\"\\N{winking face}\") "
   ]
  },
  {
   "cell_type": "code",
   "execution_count": 3,
   "metadata": {},
   "outputs": [
    {
     "name": "stdout",
     "output_type": "stream",
     "text": [
      "Collecting emoji\n",
      "  Downloading emoji-0.5.4.tar.gz (43 kB)\n",
      "\u001b[K     |████████████████████████████████| 43 kB 449 kB/s eta 0:00:011\n",
      "\u001b[?25hInstalling collected packages: emoji\n",
      "    Running setup.py install for emoji ... \u001b[?25ldone\n",
      "\u001b[?25hSuccessfully installed emoji-0.5.4\n"
     ]
    }
   ],
   "source": [
    "!pip install emoji"
   ]
  },
  {
   "cell_type": "code",
   "execution_count": 4,
   "metadata": {},
   "outputs": [
    {
     "name": "stdout",
     "output_type": "stream",
     "text": [
      "😃\n",
      "😜\n",
      "🔥\n"
     ]
    }
   ],
   "source": [
    "# import emoji module  \n",
    "import emoji \n",
    "  \n",
    "  \n",
    "print(emoji.emojize(\":grinning_face_with_big_eyes:\")) \n",
    "print(emoji.emojize(\":winking_face_with_tongue:\")) \n",
    "print(emoji.emojize(\":fire:\")) "
   ]
  },
  {
   "cell_type": "code",
   "execution_count": 6,
   "metadata": {},
   "outputs": [
    {
     "name": "stdout",
     "output_type": "stream",
     "text": [
      ":snake:\n",
      ":red_heart:\n",
      ":fire:\n"
     ]
    }
   ],
   "source": [
    "print(emoji.demojize(\"🐍\")) \n",
    "print(emoji.demojize(\"❤️\")) \n",
    "print(emoji.demojize(\"🔥\")) "
   ]
  },
  {
   "cell_type": "code",
   "execution_count": null,
   "metadata": {},
   "outputs": [],
   "source": []
  }
 ],
 "metadata": {
  "kernelspec": {
   "display_name": "Python 3",
   "language": "python",
   "name": "python3"
  },
  "language_info": {
   "codemirror_mode": {
    "name": "ipython",
    "version": 3
   },
   "file_extension": ".py",
   "mimetype": "text/x-python",
   "name": "python",
   "nbconvert_exporter": "python",
   "pygments_lexer": "ipython3",
   "version": "3.7.6"
  }
 },
 "nbformat": 4,
 "nbformat_minor": 4
}
