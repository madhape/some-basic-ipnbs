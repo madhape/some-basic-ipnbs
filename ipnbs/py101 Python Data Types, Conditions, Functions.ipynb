{
 "cells": [
  {
   "cell_type": "markdown",
   "metadata": {},
   "source": [
    "# Давайте вспомним, что было в прошлый раз"
   ]
  },
  {
   "cell_type": "code",
   "execution_count": null,
   "metadata": {},
   "outputs": [],
   "source": [
    "a = 5\n",
    "b = 9\n",
    "c = 'капбара'"
   ]
  },
  {
   "cell_type": "code",
   "execution_count": null,
   "metadata": {},
   "outputs": [],
   "source": [
    "#Какой тип у с?\n",
    "print(type(c))"
   ]
  },
  {
   "cell_type": "code",
   "execution_count": null,
   "metadata": {},
   "outputs": [],
   "source": [
    "#Найдите остаток от деления 42 на b\n",
    "42%b"
   ]
  },
  {
   "cell_type": "code",
   "execution_count": null,
   "metadata": {},
   "outputs": [],
   "source": [
    "#В слове 'капбара' опечатка - пропушено \"и\". Исправьте ее\n",
    "'кап' + 'и' + 'бара'"
   ]
  },
  {
   "cell_type": "code",
   "execution_count": null,
   "metadata": {},
   "outputs": [],
   "source": [
    "#replace('что','на что')\n",
    "\n",
    "с = 'капбара'.replace('пб', 'пиб')\n",
    "с"
   ]
  },
  {
   "cell_type": "code",
   "execution_count": null,
   "metadata": {},
   "outputs": [],
   "source": [
    "#Напишите скрипт, который получает с клавиатуры ваше имя, а потом приветствует вам \"Привет, (ваше имя)!\"\n",
    "a=input (\"Введите ваше имя\")\n",
    "print (\"Привет,\", a)"
   ]
  },
  {
   "cell_type": "code",
   "execution_count": null,
   "metadata": {},
   "outputs": [],
   "source": [
    "v = input('Введите имя')\n",
    "print ('Привет, {name}!'.format(name=v))"
   ]
  },
  {
   "cell_type": "code",
   "execution_count": null,
   "metadata": {},
   "outputs": [],
   "source": [
    "#Напишите скрипт, который получает с клавиатуры число, прибавляет к нему 42 и выводит результат на экран \n",
    "v = input('Введите число ')\n",
    "v=int(v)+42\n",
    "print (v)"
   ]
  },
  {
   "cell_type": "markdown",
   "metadata": {},
   "source": [
    "# Типы данных. Списки\n",
    "\n",
    "Список (list) - объект, который может хранить в себе другие объекты. \n",
    "\n",
    "Что хорошего мы можем сказать про списки?\n",
    "* В них могут храниться элементы разных типов\n",
    "* Размер списков можно менять"
   ]
  },
  {
   "cell_type": "code",
   "execution_count": null,
   "metadata": {},
   "outputs": [],
   "source": [
    "#создадим список\n",
    "my_list = ['капибара', 42, True]"
   ]
  },
  {
   "cell_type": "code",
   "execution_count": null,
   "metadata": {},
   "outputs": [],
   "source": [
    "#можно узнать длину списка\n",
    "len(my_list)"
   ]
  },
  {
   "cell_type": "code",
   "execution_count": null,
   "metadata": {},
   "outputs": [],
   "source": [
    "#можно отсортировать\n",
    "my_list.sort()"
   ]
  },
  {
   "cell_type": "code",
   "execution_count": null,
   "metadata": {},
   "outputs": [],
   "source": [
    "#нужно что-то удалить\n",
    "my_list.remove(True)\n",
    "my_list"
   ]
  },
  {
   "cell_type": "code",
   "execution_count": null,
   "metadata": {},
   "outputs": [],
   "source": [
    "#и еще что-то удалить\n",
    "del my_list[1]\n",
    "my_list"
   ]
  },
  {
   "cell_type": "code",
   "execution_count": null,
   "metadata": {},
   "outputs": [],
   "source": [
    "#мы обратились к элемкнту списка по индексу\n",
    "#индекс - это номер позиции в списке, но нумерация тут начинается с 0\n",
    "my_list[0]"
   ]
  },
  {
   "cell_type": "code",
   "execution_count": null,
   "metadata": {},
   "outputs": [],
   "source": [
    "#в списке почти ничего не осталось, поэтому добавим элементов\n",
    "my_list.append('кот')\n",
    "my_list.append('бинтуронг')\n",
    "my_list.append('Игорь')\n",
    "my_list.append('корги')"
   ]
  },
  {
   "cell_type": "code",
   "execution_count": null,
   "metadata": {},
   "outputs": [],
   "source": [
    "my_list"
   ]
  },
  {
   "cell_type": "code",
   "execution_count": null,
   "metadata": {},
   "outputs": [],
   "source": [
    "#однако бывает индекс -1 - это последний элемент\n",
    "my_list[-1]"
   ]
  },
  {
   "cell_type": "code",
   "execution_count": null,
   "metadata": {},
   "outputs": [],
   "source": [
    "#Задание: попробуйте индексы -2, 100, 2, -8 \n",
    "my_list[-8]"
   ]
  },
  {
   "cell_type": "code",
   "execution_count": null,
   "metadata": {},
   "outputs": [],
   "source": [
    "#вот теперь можно отсортировать. Обратите внимание на Игоря, и и И - это разные символы\n",
    "my_list.sort()\n",
    "my_list"
   ]
  },
  {
   "cell_type": "code",
   "execution_count": null,
   "metadata": {},
   "outputs": [],
   "source": [
    "#и в обратном порядке\n",
    "my_list.reverse()\n",
    "my_list"
   ]
  },
  {
   "cell_type": "markdown",
   "metadata": {},
   "source": [
    "# Типы данных. Словари\n",
    "\n",
    "Словарь - это структура вида \"ключ - значение\". \n",
    "Ключом может быть любая строка или число\n"
   ]
  },
  {
   "cell_type": "code",
   "execution_count": null,
   "metadata": {},
   "outputs": [],
   "source": [
    "#пустой словарь\n",
    "{}"
   ]
  },
  {
   "cell_type": "code",
   "execution_count": null,
   "metadata": {},
   "outputs": [],
   "source": [
    "#не пустой словарь\n",
    "animal = {\n",
    "    'name': 'Volt', \n",
    "    'breed': 'corgi', \n",
    "    'country': 'RU', \n",
    "    'tags': ['corgi', 'cute', 'instagram']\n",
    "}"
   ]
  },
  {
   "cell_type": "code",
   "execution_count": null,
   "metadata": {},
   "outputs": [],
   "source": [
    "#можно обратиться к его элементу так\n",
    "animal['name']"
   ]
  },
  {
   "cell_type": "code",
   "execution_count": null,
   "metadata": {},
   "outputs": [],
   "source": [
    "animal['namee']"
   ]
  },
  {
   "cell_type": "code",
   "execution_count": null,
   "metadata": {},
   "outputs": [],
   "source": [
    "#но лучше так\n",
    "animal.get('namee')"
   ]
  },
  {
   "cell_type": "code",
   "execution_count": null,
   "metadata": {},
   "outputs": [],
   "source": [
    "#но еще лучше так\n",
    "animal.get('name')"
   ]
  },
  {
   "cell_type": "code",
   "execution_count": null,
   "metadata": {},
   "outputs": [],
   "source": [
    "#но лучше так\n",
    "animal.get('namee', 'wtf')"
   ]
  },
  {
   "cell_type": "code",
   "execution_count": null,
   "metadata": {},
   "outputs": [],
   "source": [
    "#добавим элемент\n",
    "animal['spiece'] = 'dog'"
   ]
  },
  {
   "cell_type": "code",
   "execution_count": null,
   "metadata": {},
   "outputs": [],
   "source": [
    "#поменяем\n",
    "animal['name'] = 'Dog'"
   ]
  },
  {
   "cell_type": "code",
   "execution_count": null,
   "metadata": {},
   "outputs": [],
   "source": [
    "#удалим\n",
    "del animal['country'] "
   ]
  },
  {
   "cell_type": "code",
   "execution_count": null,
   "metadata": {},
   "outputs": [],
   "source": [
    "animal"
   ]
  },
  {
   "cell_type": "markdown",
   "metadata": {},
   "source": [
    "# Условия\n",
    "Иногда некоторая часть кода должна выполняться только при выполнении определенных условий. "
   ]
  },
  {
   "cell_type": "code",
   "execution_count": null,
   "metadata": {},
   "outputs": [],
   "source": [
    "#\n",
    "if 3 > 2:\n",
    "    print('It works!')"
   ]
  },
  {
   "cell_type": "code",
   "execution_count": null,
   "metadata": {},
   "outputs": [],
   "source": [
    "c = 'капбара'\n",
    "#c = 'капибара'"
   ]
  },
  {
   "cell_type": "code",
   "execution_count": null,
   "metadata": {},
   "outputs": [],
   "source": [
    "#\n",
    "if c == 'капбара':\n",
    "    print('Опечатка!')\n",
    "else: \n",
    "    print('Все ок!')"
   ]
  },
  {
   "cell_type": "code",
   "execution_count": null,
   "metadata": {},
   "outputs": [],
   "source": [
    "c = 'вообще не капибара'\n",
    "if c == 'капбара':\n",
    "    print('Опечатка!')\n",
    "else: \n",
    "    print('Все ок!')"
   ]
  },
  {
   "cell_type": "code",
   "execution_count": null,
   "metadata": {},
   "outputs": [],
   "source": [
    "if c == 'капбара':\n",
    "    print('Опечатка!')\n",
    "elif c == 'капибара':   \n",
    "    print('Все ок!')\n",
    "elif c == 'капиdkfhaskufaisefuyiбара':   \n",
    "    print('Все ок!')\n",
    "else: \n",
    "    print('Непонятно!')"
   ]
  },
  {
   "cell_type": "code",
   "execution_count": null,
   "metadata": {},
   "outputs": [],
   "source": [
    "# Задание: напишите скрипт, который принимает на вход возраст, и если он больше 65, \n",
    "# отправляет на пенсию, до 14 не разрешает работать\n",
    "v = input('Введите число ')\n",
    "numb=int(v)\n",
    "if numb > 65:\n",
    "    print('Retired!')\n",
    "elif numb < 14:\n",
    "    print('No work permission')\n",
    "else:\n",
    "    print('Go to office')\n"
   ]
  },
  {
   "cell_type": "markdown",
   "metadata": {},
   "source": [
    "# Циклы\n",
    "Позволяют выполнять однотипные действия "
   ]
  },
  {
   "cell_type": "code",
   "execution_count": null,
   "metadata": {},
   "outputs": [],
   "source": [
    "#у нас есть список со словами\n",
    "my_list"
   ]
  },
  {
   "cell_type": "code",
   "execution_count": null,
   "metadata": {},
   "outputs": [],
   "source": [
    "#и нам нужно посчитать длину каждого из них\n",
    "for word in 'dkjfhakjhfjkshfjkszhsfjkszfh':\n",
    "    print(len(word))\n",
    "          "
   ]
  },
  {
   "cell_type": "code",
   "execution_count": null,
   "metadata": {},
   "outputs": [],
   "source": [
    "#если нужно сделать что-то какое-то число раз\n",
    "for i in range(1, 6):\n",
    "    print(i)\n",
    "    print(i+1)"
   ]
  },
  {
   "cell_type": "markdown",
   "metadata": {},
   "source": [
    "# Функции\n",
    "Позволяют выполнять однотипные действия еще более автоматизированно"
   ]
  },
  {
   "cell_type": "code",
   "execution_count": null,
   "metadata": {},
   "outputs": [],
   "source": [
    "#на самом деле мы уже знаем, что такое функции\n",
    "print()\n",
    "len(my_list)"
   ]
  },
  {
   "cell_type": "code",
   "execution_count": null,
   "metadata": {},
   "outputs": [],
   "source": [
    "def hi():\n",
    "    print('Hi!')\n",
    "\n",
    "hi()"
   ]
  },
  {
   "cell_type": "code",
   "execution_count": null,
   "metadata": {},
   "outputs": [],
   "source": [
    "#можно кастомизировать действия, которые делаются в функции, для этого можно использовать параметры\n",
    "def hi(name):\n",
    "    print('Hi, {name}!'.format(name = name))\n",
    "\n",
    "hi('Cat')"
   ]
  },
  {
   "cell_type": "code",
   "execution_count": null,
   "metadata": {},
   "outputs": [],
   "source": [
    "for word in my_list:\n",
    "    hi(word)"
   ]
  },
  {
   "cell_type": "markdown",
   "metadata": {},
   "source": [
    "# Регулярные выражения\n",
    "Регулярные выражения - это способ искать текст по определенному шаблону. Их часто применяют для\n",
    "* поиска в строке;\n",
    "* разбиения строки на подстроки;\n",
    "* замены части строки.\n",
    "\n",
    "Мы уже научились заменять одни части строки на другие, но часто нужно написать МНОГО однообразного кода"
   ]
  },
  {
   "cell_type": "code",
   "execution_count": null,
   "metadata": {},
   "outputs": [],
   "source": [
    "#re.match(pattern, string) ищет по заданному шаблону в начале строки\n",
    "import re\n",
    "result = re.match('кот', 'кот спит')\n",
    "result\n",
    "result.group(0)"
   ]
  },
  {
   "cell_type": "code",
   "execution_count": null,
   "metadata": {},
   "outputs": [],
   "source": [
    "result = re.match('спит', 'кот спит')\n",
    "result"
   ]
  },
  {
   "cell_type": "code",
   "execution_count": null,
   "metadata": {},
   "outputs": [],
   "source": [
    "#re.search(pattern, string) ищет не только в начале строки\n",
    "result = re.search('кот', 'кот спит')\n",
    "result.group(0)\n"
   ]
  },
  {
   "cell_type": "code",
   "execution_count": null,
   "metadata": {},
   "outputs": [],
   "source": [
    "#re.findall(pattern, string) возвращает список всех найденных совпадений\n",
    "result = re.findall('кот', 'кот спит и кот кот кот')\n",
    "result"
   ]
  },
  {
   "cell_type": "code",
   "execution_count": null,
   "metadata": {},
   "outputs": [],
   "source": [
    "#re.split(pattern, string, [maxsplit=0]) разделяет строку по заданному шаблону\n",
    "result = re.split('и', 'кот спит и кот кот и кот', maxsplit=1)\n",
    "result"
   ]
  },
  {
   "cell_type": "code",
   "execution_count": null,
   "metadata": {},
   "outputs": [],
   "source": [
    "#re.sub(pattern, repl, string) ищет шаблон в строке и заменяет его на указанную подстроку\n",
    "result = re.sub('кот', 'корги', 'кот спит')\n",
    "result"
   ]
  },
  {
   "cell_type": "markdown",
   "metadata": {},
   "source": [
    "# Что мы можем со всем этим делать?"
   ]
  },
  {
   "cell_type": "code",
   "execution_count": null,
   "metadata": {},
   "outputs": [],
   "source": [
    "animal = input('Какое животное у тебя есть?')\n",
    "animal = animal.capitalize().strip()\n",
    "if animal.lower() == 'кот':\n",
    "    animal_action = 'спи'\n",
    "elif animal.lower() == 'собака':    \n",
    "    animal_action = 'играть'\n",
    "else:\n",
    "    animal_action = 'ты кто вообще?'\n",
    "c = '{pet}, {action}!'.format(pet=animal, action=animal_action)\n",
    "print(c)"
   ]
  },
  {
   "cell_type": "code",
   "execution_count": null,
   "metadata": {},
   "outputs": [],
   "source": [
    "phone = input('Какой у тебя телефон? ')\n",
    "if re.match(r'[8-9]{1}[0-9]{9}', phone) and len(phone) == 10:\n",
    "    print('yes')\n",
    "else:\n",
    "    print('no')"
   ]
  },
  {
   "cell_type": "code",
   "execution_count": null,
   "metadata": {},
   "outputs": [],
   "source": []
  }
 ],
 "metadata": {
  "kernelspec": {
   "display_name": "Python 3",
   "language": "python",
   "name": "python3"
  },
  "language_info": {
   "codemirror_mode": {
    "name": "ipython",
    "version": 3
   },
   "file_extension": ".py",
   "mimetype": "text/x-python",
   "name": "python",
   "nbconvert_exporter": "python",
   "pygments_lexer": "ipython3",
   "version": "3.7.6"
  }
 },
 "nbformat": 4,
 "nbformat_minor": 2
}
