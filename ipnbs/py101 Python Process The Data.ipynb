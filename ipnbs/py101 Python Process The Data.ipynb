{
 "cells": [
  {
   "cell_type": "markdown",
   "metadata": {},
   "source": [
    "# Давайте вспомним, что было в прошлые разы"
   ]
  },
  {
   "cell_type": "code",
   "execution_count": 1,
   "metadata": {},
   "outputs": [],
   "source": [
    "a = 5\n",
    "b = 9\n",
    "c = 'капбара'"
   ]
  },
  {
   "cell_type": "code",
   "execution_count": 2,
   "metadata": {},
   "outputs": [
    {
     "data": {
      "text/plain": [
       "int"
      ]
     },
     "execution_count": 2,
     "metadata": {},
     "output_type": "execute_result"
    }
   ],
   "source": [
    "#Какой тип у a?\n",
    "type(a)"
   ]
  },
  {
   "cell_type": "code",
   "execution_count": 3,
   "metadata": {},
   "outputs": [
    {
     "data": {
      "text/plain": [
       "['к', 'а', 'п', 'б', 'а', 'р', 'а']"
      ]
     },
     "execution_count": 3,
     "metadata": {},
     "output_type": "execute_result"
    }
   ],
   "source": [
    "#Создвйте список с отдельными буквами из с\n",
    "l = []\n",
    "for i in c:\n",
    "    l.append(i)\n",
    "l    "
   ]
  },
  {
   "cell_type": "code",
   "execution_count": 4,
   "metadata": {},
   "outputs": [
    {
     "name": "stdout",
     "output_type": "stream",
     "text": [
      "Гласная!\n",
      "Гласная!\n",
      "Гласная!\n"
     ]
    },
    {
     "data": {
      "text/plain": [
       "['к', 'а', 'п', 'б', 'а', 'р', 'а']"
      ]
     },
     "execution_count": 4,
     "metadata": {},
     "output_type": "execute_result"
    }
   ],
   "source": [
    "#Если буква гласная, то напишите об этом\n",
    "import re\n",
    "l = []\n",
    "for i in c:\n",
    "    if re.match('[аАиИыЫуУоО]{1}', i):\n",
    "        print('Гласная!')\n",
    "    l.append(i)\n",
    "l"
   ]
  },
  {
   "cell_type": "code",
   "execution_count": 5,
   "metadata": {},
   "outputs": [
    {
     "name": "stdout",
     "output_type": "stream",
     "text": [
      "Hi, капибара!\n"
     ]
    }
   ],
   "source": [
    "#Напишите функцию, которая принимает на вход строку, разбирает ее на буквы, и делает из них список\n",
    "def hi(name):\n",
    "    print('Hi, {name}!'.format(name = name))\n",
    "\n",
    "hi('капибара')"
   ]
  },
  {
   "cell_type": "code",
   "execution_count": 6,
   "metadata": {},
   "outputs": [
    {
     "data": {
      "text/plain": [
       "'j'"
      ]
     },
     "execution_count": 6,
     "metadata": {},
     "output_type": "execute_result"
    }
   ],
   "source": [
    "input_string = 'kjfdklfjkjf'\n",
    "input_string[1]"
   ]
  },
  {
   "cell_type": "code",
   "execution_count": 7,
   "metadata": {},
   "outputs": [
    {
     "data": {
      "text/plain": [
       "'kjfdklfjkjf'"
      ]
     },
     "execution_count": 7,
     "metadata": {},
     "output_type": "execute_result"
    }
   ],
   "source": [
    "input_string"
   ]
  },
  {
   "cell_type": "markdown",
   "metadata": {},
   "source": [
    "# Работа с базой данных (sqlite)"
   ]
  },
  {
   "cell_type": "code",
   "execution_count": 8,
   "metadata": {},
   "outputs": [],
   "source": [
    "import sqlite3"
   ]
  },
  {
   "cell_type": "code",
   "execution_count": 9,
   "metadata": {},
   "outputs": [
    {
     "name": "stdout",
     "output_type": "stream",
     "text": [
      "total 600\r\n",
      "drwxr-xr-x@ 17 madhape  staff   544B Jul 28 17:42 \u001b[34m.\u001b[m\u001b[m\r\n",
      "drwxr-xr-x@  9 madhape  staff   288B Jul 21 19:52 \u001b[34m..\u001b[m\u001b[m\r\n",
      "-rw-r--r--@  1 madhape  staff   6.0K Jul 23 18:30 .DS_Store\r\n",
      "drwxr-xr-x@  9 madhape  staff   288B Jul 28 12:12 \u001b[34m.ipynb_checkpoints\u001b[m\u001b[m\r\n",
      "-rw-rw-r--@  1 madhape  staff   135K Jul 23 19:20 airtable.ipynb\r\n",
      "-rw-r--r--@  1 madhape  staff   4.0K Jul 16 21:40 emoji.ipynb\r\n",
      "-rw-r--r--@  1 madhape  staff   4.2K Jul 23 21:58 excel.ipynb\r\n",
      "-rw-r--r--@  1 madhape  staff    66B Jul 23 21:10 hh.txt\r\n",
      "-rw-r--r--@  1 madhape  staff    67B Jul 23 21:11 otus.txt\r\n",
      "-rw-r--r--@  1 madhape  staff   5.1K Jul 21 21:32 pillow.ipynb\r\n",
      "-rw-r--r--@  1 madhape  staff    30K Jul 23 21:58 py101 Python Data Types, Conditions, Functions.ipynb\r\n",
      "-rw-r--r--@  1 madhape  staff    21K Jul 21 18:34 py101 Python Data Types.ipynb\r\n",
      "-rw-r--r--@  1 madhape  staff    11K Jul 23 21:58 py101 Python Get The Data.ipynb\r\n",
      "-rw-r--r--@  1 madhape  staff    38K Feb 18 21:14 py101 Python Process The Data.ipynb\r\n",
      "-rw-r--r--@  1 madhape  staff   5.0K Jul 28 13:10 safari.ipynb\r\n",
      "-rw-r--r--@  1 madhape  staff    47B Jul 23 19:32 tasks.txt\r\n",
      "-rw-r--r--@  1 madhape  staff   3.1K Jul 23 21:58 trello.ipynb\r\n"
     ]
    }
   ],
   "source": [
    "!ls -lah"
   ]
  },
  {
   "cell_type": "code",
   "execution_count": 10,
   "metadata": {},
   "outputs": [],
   "source": [
    "conn = sqlite3.connect(\"../data/mydatabase.db\") \n",
    "cursor = conn.cursor()"
   ]
  },
  {
   "cell_type": "code",
   "execution_count": 11,
   "metadata": {},
   "outputs": [
    {
     "name": "stdout",
     "output_type": "stream",
     "text": [
      "arial.ttf             employee_file.csv     mydatabase.db\r\n",
      "blurred.png           example.xls           sample.log\r\n",
      "cat.jpg               example2.xls          text.png\r\n",
      "csv_file.csv          my_file.txt\r\n",
      "employee_birthday.txt my_file2.txt\r\n"
     ]
    }
   ],
   "source": [
    "!ls ../data/"
   ]
  },
  {
   "cell_type": "code",
   "execution_count": 12,
   "metadata": {},
   "outputs": [
    {
     "data": {
      "text/plain": [
       "<sqlite3.Cursor at 0x10c6d6a40>"
      ]
     },
     "execution_count": 12,
     "metadata": {},
     "output_type": "execute_result"
    }
   ],
   "source": [
    "#создание таблицы\n",
    "cursor.execute(\"\"\"CREATE TABLE tasks\n",
    "                  (title text, project text, due_date text,\n",
    "                   contact text, type text)\n",
    "               \"\"\")"
   ]
  },
  {
   "cell_type": "code",
   "execution_count": 13,
   "metadata": {},
   "outputs": [],
   "source": [
    "# Вставляем данные в таблицу\n",
    "cursor.execute(\"\"\"INSERT INTO tasks\n",
    "                  VALUES ('task1', 'project1', '7/24/2019',\n",
    "                  'Egor', 'urgent')\"\"\"\n",
    "               )\n",
    " \n",
    "# Сохраняем изменения\n",
    "conn.commit()\n",
    " \n"
   ]
  },
  {
   "cell_type": "code",
   "execution_count": 14,
   "metadata": {},
   "outputs": [],
   "source": [
    "# Вставляем множество данных в таблицу используя безопасный метод \"?\"\n",
    "my_tasks = [('task3', 'project1', '7/9/2002', 'Egor', 'ekeke'),\n",
    "          ('44Заключить договор', 'project1', '2/1/2011', 'Аня', '?'),\n",
    "          ('33Помыть капибару', 'Дом', '4/17/2012', 'Василий', 'urgent'),\n",
    "          ('33Купить корм коту', 'Дом', '4/10/2012', 'я', '?')]\n",
    " \n",
    "cursor.executemany(\"INSERT INTO tasks VALUES (?,?,?,?,?)\", my_tasks)\n",
    "conn.commit()"
   ]
  },
  {
   "cell_type": "code",
   "execution_count": 15,
   "metadata": {},
   "outputs": [],
   "source": [
    "sql = \"\"\"\n",
    "UPDATE tasks \n",
    "SET project = 'Otus' \n",
    "WHERE project = 'project1'\n",
    "\"\"\"\n",
    " \n",
    "cursor.execute(sql)\n",
    "conn.commit()"
   ]
  },
  {
   "cell_type": "code",
   "execution_count": 16,
   "metadata": {},
   "outputs": [],
   "source": [
    "sql = \"DELETE FROM tasks WHERE project = 'Otus'\"\n",
    " \n",
    "cursor.execute(sql)\n",
    "conn.commit()"
   ]
  },
  {
   "cell_type": "code",
   "execution_count": 17,
   "metadata": {},
   "outputs": [
    {
     "name": "stdout",
     "output_type": "stream",
     "text": [
      "[('33Помыть капибару', 'Дом', '4/17/2012', 'Василий', 'urgent'), ('33Купить корм коту', 'Дом', '4/10/2012', 'я', '?')]\n",
      "Here's a listing of all the records in the table:\n",
      "(4, '33Помыть капибару', 'Дом', '4/17/2012', 'Василий', 'urgent')\n",
      "(5, '33Купить корм коту', 'Дом', '4/10/2012', 'я', '?')\n",
      "Results from a LIKE query:\n",
      "[]\n"
     ]
    }
   ],
   "source": [
    "cursor = conn.cursor()\n",
    " \n",
    "sql = \"SELECT * FROM tasks WHERE project=?\"\n",
    "cursor.execute(sql, [(\"Дом\")])\n",
    "print(cursor.fetchall()) # or use fetchone()\n",
    " \n",
    "print(\"Here's a listing of all the records in the table:\")\n",
    "for row in cursor.execute(\"SELECT rowid, * FROM tasks ORDER BY project\"):\n",
    "    print(row)\n",
    " \n",
    "print(\"Results from a LIKE query:\")\n",
    "sql = \"SELECT * FROM tasks WHERE title LIKE 'По%'\"\n",
    "cursor.execute(sql)\n",
    " \n",
    "print(cursor.fetchall())"
   ]
  },
  {
   "cell_type": "code",
   "execution_count": 18,
   "metadata": {
    "scrolled": true
   },
   "outputs": [
    {
     "name": "stdout",
     "output_type": "stream",
     "text": [
      "total 15176\r\n",
      "drwxr-xr-x@ 16 madhape  staff   512B Jul 28 17:45 \u001b[34m.\u001b[m\u001b[m\r\n",
      "drwxr-xr-x@  9 madhape  staff   288B Jul 21 19:52 \u001b[34m..\u001b[m\u001b[m\r\n",
      "-rw-r--r--@  1 madhape  staff   6.0K Jul 21 21:31 .DS_Store\r\n",
      "-rw-rw-r--@  1 madhape  staff   359K Jul  7  2008 arial.ttf\r\n",
      "-rw-r--r--@  1 madhape  staff   3.3M Jul 21 21:29 blurred.png\r\n",
      "-rw-r--r--@  1 madhape  staff   380K Feb  6 19:25 cat.jpg\r\n",
      "-rw-r--r--@  1 madhape  staff   147B Jul 23 18:34 csv_file.csv\r\n",
      "-rw-r--r--@  1 madhape  staff    83B Jul 23 18:46 employee_birthday.txt\r\n",
      "-rw-r--r--@  1 madhape  staff    55B Jul 23 18:52 employee_file.csv\r\n",
      "-rw-r--r--@  1 madhape  staff   5.5K Jul 23 18:41 example.xls\r\n",
      "-rw-r--r--@  1 madhape  staff   5.5K Jul 23 20:33 example2.xls\r\n",
      "-rw-r--r--@  1 madhape  staff    18B Jul 23 18:29 my_file.txt\r\n",
      "-rw-r--r--@  1 madhape  staff     0B Jul 23 18:29 my_file2.txt\r\n",
      "-rw-r--r--@  1 madhape  staff   8.0K Jul 28 17:45 mydatabase.db\r\n",
      "-rw-r--r--@  1 madhape  staff   717B Jul 23 20:58 sample.log\r\n",
      "-rw-r--r--@  1 madhape  staff   2.5M Jul 21 21:32 text.png\r\n"
     ]
    }
   ],
   "source": [
    "!ls -lah  ../data/"
   ]
  },
  {
   "cell_type": "markdown",
   "metadata": {},
   "source": [
    "# Pandas"
   ]
  },
  {
   "cell_type": "code",
   "execution_count": 19,
   "metadata": {},
   "outputs": [],
   "source": [
    "import pandas as pd"
   ]
  },
  {
   "cell_type": "code",
   "execution_count": 20,
   "metadata": {},
   "outputs": [
    {
     "data": {
      "text/plain": [
       "0     5\n",
       "1     0\n",
       "2     7\n",
       "3     8\n",
       "4     9\n",
       "5    10\n",
       "dtype: int64"
      ]
     },
     "execution_count": 20,
     "metadata": {},
     "output_type": "execute_result"
    }
   ],
   "source": [
    "my_series = pd.Series([5, 0, 7, 8, 9, 10])\n",
    "my_series"
   ]
  },
  {
   "cell_type": "code",
   "execution_count": 21,
   "metadata": {},
   "outputs": [
    {
     "data": {
      "text/plain": [
       "array([ 5,  0,  7,  8,  9, 10])"
      ]
     },
     "execution_count": 21,
     "metadata": {},
     "output_type": "execute_result"
    }
   ],
   "source": [
    "#у Series есть атрибуты, через которые можно получить список элементов и индексы\n",
    "#my_series.index\n",
    "my_series.values"
   ]
  },
  {
   "cell_type": "code",
   "execution_count": 22,
   "metadata": {},
   "outputs": [
    {
     "data": {
      "text/plain": [
       "9"
      ]
     },
     "execution_count": 22,
     "metadata": {},
     "output_type": "execute_result"
    }
   ],
   "source": [
    "#доступ по их индексу\n",
    "my_series[4]"
   ]
  },
  {
   "cell_type": "code",
   "execution_count": 23,
   "metadata": {},
   "outputs": [
    {
     "data": {
      "text/plain": [
       "10"
      ]
     },
     "execution_count": 23,
     "metadata": {},
     "output_type": "execute_result"
    }
   ],
   "source": [
    "my_series2 = pd.Series([5, 6, 7, 8, 9, 10], index=['a', 'b', 'c', 'd', 'e', 'f'])\n",
    "my_series2['f']"
   ]
  },
  {
   "cell_type": "code",
   "execution_count": 24,
   "metadata": {},
   "outputs": [
    {
     "data": {
      "text/plain": [
       "a     5\n",
       "b     6\n",
       "f    10\n",
       "dtype: int64"
      ]
     },
     "execution_count": 24,
     "metadata": {},
     "output_type": "execute_result"
    }
   ],
   "source": [
    "my_series2[['a', 'b', 'f']]"
   ]
  },
  {
   "cell_type": "code",
   "execution_count": 25,
   "metadata": {},
   "outputs": [
    {
     "data": {
      "text/plain": [
       "a    0\n",
       "b    0\n",
       "c    7\n",
       "d    8\n",
       "e    9\n",
       "f    0\n",
       "dtype: int64"
      ]
     },
     "execution_count": 25,
     "metadata": {},
     "output_type": "execute_result"
    }
   ],
   "source": [
    "my_series2[['a', 'b', 'f']] = 0\n",
    "my_series2"
   ]
  },
  {
   "cell_type": "code",
   "execution_count": 26,
   "metadata": {},
   "outputs": [
    {
     "data": {
      "text/plain": [
       "c    14\n",
       "d    16\n",
       "e    18\n",
       "dtype: int64"
      ]
     },
     "execution_count": 26,
     "metadata": {},
     "output_type": "execute_result"
    }
   ],
   "source": [
    "my_series2[my_series2 > 0] * 2"
   ]
  },
  {
   "cell_type": "code",
   "execution_count": 27,
   "metadata": {},
   "outputs": [],
   "source": [
    "df = pd.DataFrame({\n",
    "    'country': ['Kazakhstan', 'Russia', 'Belarus', 'Ukraine'],\n",
    "    'population': [17.04, 143.5, 9.5, 45.5],\n",
    "    'square': [2724902, 17125191, 207600, 603628]\n",
    "})"
   ]
  },
  {
   "cell_type": "code",
   "execution_count": 28,
   "metadata": {},
   "outputs": [
    {
     "data": {
      "text/plain": [
       "0    Kazakhstan\n",
       "1        Russia\n",
       "2       Belarus\n",
       "3       Ukraine\n",
       "Name: country, dtype: object"
      ]
     },
     "execution_count": 28,
     "metadata": {},
     "output_type": "execute_result"
    }
   ],
   "source": [
    "df['country']"
   ]
  },
  {
   "cell_type": "code",
   "execution_count": 29,
   "metadata": {},
   "outputs": [],
   "source": [
    "df = df.rename(columns={'Country Code': 'country_code'})"
   ]
  },
  {
   "cell_type": "code",
   "execution_count": 30,
   "metadata": {},
   "outputs": [
    {
     "data": {
      "text/html": [
       "<div>\n",
       "<style scoped>\n",
       "    .dataframe tbody tr th:only-of-type {\n",
       "        vertical-align: middle;\n",
       "    }\n",
       "\n",
       "    .dataframe tbody tr th {\n",
       "        vertical-align: top;\n",
       "    }\n",
       "\n",
       "    .dataframe thead th {\n",
       "        text-align: right;\n",
       "    }\n",
       "</style>\n",
       "<table border=\"1\" class=\"dataframe\">\n",
       "  <thead>\n",
       "    <tr style=\"text-align: right;\">\n",
       "      <th></th>\n",
       "      <th>country</th>\n",
       "      <th>population</th>\n",
       "      <th>square</th>\n",
       "    </tr>\n",
       "  </thead>\n",
       "  <tbody>\n",
       "    <tr>\n",
       "      <th>0</th>\n",
       "      <td>Kazakhstan</td>\n",
       "      <td>17.04</td>\n",
       "      <td>2724902</td>\n",
       "    </tr>\n",
       "    <tr>\n",
       "      <th>1</th>\n",
       "      <td>Russia</td>\n",
       "      <td>143.50</td>\n",
       "      <td>17125191</td>\n",
       "    </tr>\n",
       "    <tr>\n",
       "      <th>2</th>\n",
       "      <td>Belarus</td>\n",
       "      <td>9.50</td>\n",
       "      <td>207600</td>\n",
       "    </tr>\n",
       "    <tr>\n",
       "      <th>3</th>\n",
       "      <td>Ukraine</td>\n",
       "      <td>45.50</td>\n",
       "      <td>603628</td>\n",
       "    </tr>\n",
       "  </tbody>\n",
       "</table>\n",
       "</div>"
      ],
      "text/plain": [
       "      country  population    square\n",
       "0  Kazakhstan       17.04   2724902\n",
       "1      Russia      143.50  17125191\n",
       "2     Belarus        9.50    207600\n",
       "3     Ukraine       45.50    603628"
      ]
     },
     "execution_count": 30,
     "metadata": {},
     "output_type": "execute_result"
    }
   ],
   "source": [
    "df"
   ]
  },
  {
   "cell_type": "code",
   "execution_count": 31,
   "metadata": {},
   "outputs": [
    {
     "name": "stdout",
     "output_type": "stream",
     "text": [
      "airtable.ipynb\r\n",
      "emoji.ipynb\r\n",
      "excel.ipynb\r\n",
      "hh.txt\r\n",
      "otus.txt\r\n",
      "pillow.ipynb\r\n",
      "py101 Python Data Types, Conditions, Functions.ipynb\r\n",
      "py101 Python Data Types.ipynb\r\n",
      "py101 Python Get The Data.ipynb\r\n",
      "py101 Python Process The Data.ipynb\r\n",
      "safari.ipynb\r\n",
      "tasks.txt\r\n",
      "trello.ipynb\r\n"
     ]
    }
   ],
   "source": [
    "!ls"
   ]
  },
  {
   "cell_type": "code",
   "execution_count": 32,
   "metadata": {},
   "outputs": [],
   "source": [
    "df = pd.read_csv('../data/airports.csv', sep = ',')"
   ]
  },
  {
   "cell_type": "code",
   "execution_count": 33,
   "metadata": {},
   "outputs": [
    {
     "data": {
      "text/html": [
       "<div>\n",
       "<style scoped>\n",
       "    .dataframe tbody tr th:only-of-type {\n",
       "        vertical-align: middle;\n",
       "    }\n",
       "\n",
       "    .dataframe tbody tr th {\n",
       "        vertical-align: top;\n",
       "    }\n",
       "\n",
       "    .dataframe thead th {\n",
       "        text-align: right;\n",
       "    }\n",
       "</style>\n",
       "<table border=\"1\" class=\"dataframe\">\n",
       "  <thead>\n",
       "    <tr style=\"text-align: right;\">\n",
       "      <th></th>\n",
       "      <th>type</th>\n",
       "      <th>latitude_deg</th>\n",
       "      <th>longitude_deg</th>\n",
       "    </tr>\n",
       "  </thead>\n",
       "  <tbody>\n",
       "    <tr>\n",
       "      <th>0</th>\n",
       "      <td>heliport</td>\n",
       "      <td>40.070801</td>\n",
       "      <td>-74.933601</td>\n",
       "    </tr>\n",
       "    <tr>\n",
       "      <th>1</th>\n",
       "      <td>small_airport</td>\n",
       "      <td>59.949200</td>\n",
       "      <td>-151.695999</td>\n",
       "    </tr>\n",
       "    <tr>\n",
       "      <th>2</th>\n",
       "      <td>small_airport</td>\n",
       "      <td>34.864799</td>\n",
       "      <td>-86.770302</td>\n",
       "    </tr>\n",
       "    <tr>\n",
       "      <th>3</th>\n",
       "      <td>heliport</td>\n",
       "      <td>35.608700</td>\n",
       "      <td>-91.254898</td>\n",
       "    </tr>\n",
       "    <tr>\n",
       "      <th>4</th>\n",
       "      <td>small_airport</td>\n",
       "      <td>34.305599</td>\n",
       "      <td>-112.165001</td>\n",
       "    </tr>\n",
       "    <tr>\n",
       "      <th>...</th>\n",
       "      <td>...</td>\n",
       "      <td>...</td>\n",
       "      <td>...</td>\n",
       "    </tr>\n",
       "    <tr>\n",
       "      <th>49699</th>\n",
       "      <td>medium_airport</td>\n",
       "      <td>40.542524</td>\n",
       "      <td>122.358600</td>\n",
       "    </tr>\n",
       "    <tr>\n",
       "      <th>49700</th>\n",
       "      <td>medium_airport</td>\n",
       "      <td>41.784401</td>\n",
       "      <td>123.496002</td>\n",
       "    </tr>\n",
       "    <tr>\n",
       "      <th>49701</th>\n",
       "      <td>heliport</td>\n",
       "      <td>51.894444</td>\n",
       "      <td>1.482500</td>\n",
       "    </tr>\n",
       "    <tr>\n",
       "      <th>49702</th>\n",
       "      <td>small_airport</td>\n",
       "      <td>-11.584278</td>\n",
       "      <td>47.296389</td>\n",
       "    </tr>\n",
       "    <tr>\n",
       "      <th>49703</th>\n",
       "      <td>small_airport</td>\n",
       "      <td>30.784722</td>\n",
       "      <td>130.270556</td>\n",
       "    </tr>\n",
       "  </tbody>\n",
       "</table>\n",
       "<p>49704 rows × 3 columns</p>\n",
       "</div>"
      ],
      "text/plain": [
       "                 type  latitude_deg  longitude_deg\n",
       "0            heliport     40.070801     -74.933601\n",
       "1       small_airport     59.949200    -151.695999\n",
       "2       small_airport     34.864799     -86.770302\n",
       "3            heliport     35.608700     -91.254898\n",
       "4       small_airport     34.305599    -112.165001\n",
       "...               ...           ...            ...\n",
       "49699  medium_airport     40.542524     122.358600\n",
       "49700  medium_airport     41.784401     123.496002\n",
       "49701        heliport     51.894444       1.482500\n",
       "49702   small_airport    -11.584278      47.296389\n",
       "49703   small_airport     30.784722     130.270556\n",
       "\n",
       "[49704 rows x 3 columns]"
      ]
     },
     "execution_count": 33,
     "metadata": {},
     "output_type": "execute_result"
    }
   ],
   "source": [
    "df"
   ]
  },
  {
   "cell_type": "code",
   "execution_count": 34,
   "metadata": {},
   "outputs": [
    {
     "name": "stdout",
     "output_type": "stream",
     "text": [
      "            type  latitude_deg  longitude_deg\n",
      "0       heliport     40.070801     -74.933601\n",
      "1  small_airport     59.949200    -151.695999\n",
      "2  small_airport     34.864799     -86.770302\n",
      "3       heliport     35.608700     -91.254898\n",
      "4  small_airport     34.305599    -112.165001\n"
     ]
    }
   ],
   "source": [
    "print(df.head())"
   ]
  },
  {
   "cell_type": "code",
   "execution_count": 35,
   "metadata": {},
   "outputs": [
    {
     "name": "stdout",
     "output_type": "stream",
     "text": [
      "<class 'pandas.core.frame.DataFrame'>\n"
     ]
    }
   ],
   "source": [
    "print(type(df))"
   ]
  },
  {
   "cell_type": "code",
   "execution_count": 36,
   "metadata": {},
   "outputs": [
    {
     "name": "stdout",
     "output_type": "stream",
     "text": [
      "Index(['type', 'latitude_deg', 'longitude_deg'], dtype='object')\n"
     ]
    }
   ],
   "source": [
    "print(df.columns)"
   ]
  },
  {
   "cell_type": "code",
   "execution_count": 37,
   "metadata": {},
   "outputs": [
    {
     "name": "stdout",
     "output_type": "stream",
     "text": [
      "<class 'pandas.core.frame.DataFrame'>\n",
      "RangeIndex: 49704 entries, 0 to 49703\n",
      "Data columns (total 3 columns):\n",
      " #   Column         Non-Null Count  Dtype  \n",
      "---  ------         --------------  -----  \n",
      " 0   type           49704 non-null  object \n",
      " 1   latitude_deg   49704 non-null  float64\n",
      " 2   longitude_deg  49704 non-null  float64\n",
      "dtypes: float64(2), object(1)\n",
      "memory usage: 1.1+ MB\n",
      "None\n"
     ]
    }
   ],
   "source": [
    "print(df.info())"
   ]
  },
  {
   "cell_type": "code",
   "execution_count": 38,
   "metadata": {},
   "outputs": [],
   "source": [
    "country_df = df['type']"
   ]
  },
  {
   "cell_type": "code",
   "execution_count": 39,
   "metadata": {},
   "outputs": [
    {
     "name": "stdout",
     "output_type": "stream",
     "text": [
      "0         heliport\n",
      "1    small_airport\n",
      "2    small_airport\n",
      "3         heliport\n",
      "4    small_airport\n",
      "Name: type, dtype: object\n"
     ]
    }
   ],
   "source": [
    "print(country_df.head())"
   ]
  },
  {
   "cell_type": "code",
   "execution_count": 40,
   "metadata": {},
   "outputs": [
    {
     "name": "stdout",
     "output_type": "stream",
     "text": [
      "49699    medium_airport\n",
      "49700    medium_airport\n",
      "49701          heliport\n",
      "49702     small_airport\n",
      "49703     small_airport\n",
      "Name: type, dtype: object\n"
     ]
    }
   ],
   "source": [
    "print(country_df.tail())"
   ]
  },
  {
   "cell_type": "code",
   "execution_count": 56,
   "metadata": {},
   "outputs": [],
   "source": [
    "subset = df[['country','year']]"
   ]
  },
  {
   "cell_type": "code",
   "execution_count": 57,
   "metadata": {},
   "outputs": [
    {
     "name": "stdout",
     "output_type": "stream",
     "text": [
      "       country  year\n",
      "0  Afghanistan  1950\n",
      "1  Afghanistan  1951\n",
      "2  Afghanistan  1952\n",
      "3  Afghanistan  1953\n",
      "4  Afghanistan  1954\n"
     ]
    }
   ],
   "source": [
    "print(subset.head())"
   ]
  },
  {
   "cell_type": "markdown",
   "metadata": {},
   "source": [
    "# API Todoist\n",
    "Todoist - популярный сервис для управления задачами  \n",
    "Ссылка на описание: https://developer.todoist.com/sync/v7/"
   ]
  },
  {
   "cell_type": "code",
   "execution_count": null,
   "metadata": {
    "scrolled": true
   },
   "outputs": [],
   "source": [
    "#устанавливаем  модуль \n",
    "!pip install todoist-python"
   ]
  },
  {
   "cell_type": "code",
   "execution_count": 82,
   "metadata": {},
   "outputs": [],
   "source": [
    "#импортируем \n",
    "from todoist.api import TodoistAPI"
   ]
  },
  {
   "cell_type": "code",
   "execution_count": 48,
   "metadata": {},
   "outputs": [],
   "source": [
    "#из веб-интерфейса (Settings -> Integrations) копируем токен\n",
    "token = 'token'"
   ]
  },
  {
   "cell_type": "code",
   "execution_count": 83,
   "metadata": {},
   "outputs": [],
   "source": [
    "api = TodoistAPI(token)"
   ]
  },
  {
   "cell_type": "code",
   "execution_count": 84,
   "metadata": {},
   "outputs": [
    {
     "data": {
      "text/plain": [
       "{'full_sync': False,\n",
       " 'temp_id_mapping': {},\n",
       " 'labels': [],\n",
       " 'project_notes': [],\n",
       " 'filters': [],\n",
       " 'sync_token': '2XF4KNPNLIi5rEeYPUj1BSLBJ_JNDCzAKpT21aiwx3ldNneoZQF07lZmu58nRoBntLZivi99bV-tr5FlWAylovodFJ4FUS2ulzYY5sBR2uEv',\n",
       " 'day_orders': {},\n",
       " 'projects': [],\n",
       " 'collaborators': [],\n",
       " 'day_orders_timestamp': '1560634248.29',\n",
       " 'live_notifications_last_read_id': 2224576146,\n",
       " 'items': [],\n",
       " 'notes': [],\n",
       " 'reminders': [],\n",
       " 'due_exceptions': [],\n",
       " 'live_notifications': [],\n",
       " 'sections': [],\n",
       " 'collaborator_states': []}"
      ]
     },
     "execution_count": 84,
     "metadata": {},
     "output_type": "execute_result"
    }
   ],
   "source": [
    "api.sync()"
   ]
  },
  {
   "cell_type": "code",
   "execution_count": 85,
   "metadata": {},
   "outputs": [
    {
     "data": {
      "text/plain": [
       "'Owlkin'"
      ]
     },
     "execution_count": 85,
     "metadata": {},
     "output_type": "execute_result"
    }
   ],
   "source": [
    "full_name = api.state['user']['full_name']\n",
    "full_name"
   ]
  },
  {
   "cell_type": "code",
   "execution_count": 86,
   "metadata": {},
   "outputs": [
    {
     "name": "stdout",
     "output_type": "stream",
     "text": [
      "Team Inbox\n",
      "Inbox\n",
      "HR Porn Podcast\n",
      "HRporn\n",
      "Запись подкаста\n",
      "Event Box\n",
      "EDU\n",
      "Just Tasks\n",
      "Купить\n",
      "МТС\n",
      "DS Tools\n",
      "Crawling\n",
      "DQ\n",
      "DataFest 2019 MTS\n",
      "Спасите котика\n",
      "Learn Python & Co\n",
      "Learn Python 13\n",
      "me\n",
      "weekly review\n",
      "Stratoplan Dir\n",
      "Language learning\n",
      "HSE\n",
      "networking\n",
      "Pyladies Moscow\n",
      "PyLadies Meetup 04\n",
      "PyLadies Workshop 01\n",
      "PyLadies Meetup 05\n",
      "blog.madhape.xyz\n",
      "2down\n",
      "Camp NaNoWriMo 2019\n",
      "Wacken 2019\n",
      "Project4OtusDemo\n",
      "Project4OtusDemo\n"
     ]
    }
   ],
   "source": [
    "for project in api.state['projects']:\n",
    "    print(project['name'])"
   ]
  },
  {
   "cell_type": "code",
   "execution_count": 87,
   "metadata": {},
   "outputs": [
    {
     "name": "stdout",
     "output_type": "stream",
     "text": [
      "Project({'child_order': 21,\n",
      " 'collapsed': 0,\n",
      " 'color': 47,\n",
      " 'id': 2215534515,\n",
      " 'is_archived': 0,\n",
      " 'is_deleted': 0,\n",
      " 'is_favorite': 0,\n",
      " 'name': 'Project4OtusDemo2',\n",
      " 'parent_id': None,\n",
      " 'shared': False})\n"
     ]
    }
   ],
   "source": [
    "project = api.projects.add('Project4OtusDemo2')\n",
    "api.commit()\n",
    "print(project)"
   ]
  },
  {
   "cell_type": "code",
   "execution_count": 88,
   "metadata": {},
   "outputs": [
    {
     "ename": "SyncError",
     "evalue": "('a5a7fe12-bf88-11e9-add0-784f438c6b59', {'error_tag': 'MAX_ITEMS_LIMIT_REACHED', 'error_code': 49, 'http_code': 403, 'error_extra': {}, 'error': 'Maximum number of items per user project limit reached'})",
     "output_type": "error",
     "traceback": [
      "\u001b[0;31m---------------------------------------------------------------------------\u001b[0m",
      "\u001b[0;31mSyncError\u001b[0m                                 Traceback (most recent call last)",
      "\u001b[0;32m<ipython-input-88-6ceeb6beaacf>\u001b[0m in \u001b[0;36m<module>\u001b[0;34m\u001b[0m\n\u001b[1;32m      1\u001b[0m \u001b[0mtask1\u001b[0m \u001b[0;34m=\u001b[0m \u001b[0mapi\u001b[0m\u001b[0;34m.\u001b[0m\u001b[0mitems\u001b[0m\u001b[0;34m.\u001b[0m\u001b[0madd\u001b[0m\u001b[0;34m(\u001b[0m\u001b[0;34m'Task2'\u001b[0m\u001b[0;34m)\u001b[0m\u001b[0;34m\u001b[0m\u001b[0;34m\u001b[0m\u001b[0m\n\u001b[0;32m----> 2\u001b[0;31m \u001b[0mapi\u001b[0m\u001b[0;34m.\u001b[0m\u001b[0mcommit\u001b[0m\u001b[0;34m(\u001b[0m\u001b[0;34m)\u001b[0m\u001b[0;34m\u001b[0m\u001b[0;34m\u001b[0m\u001b[0m\n\u001b[0m\u001b[1;32m      3\u001b[0m \u001b[0mprint\u001b[0m\u001b[0;34m(\u001b[0m\u001b[0mtask1\u001b[0m\u001b[0;34m)\u001b[0m\u001b[0;34m\u001b[0m\u001b[0;34m\u001b[0m\u001b[0m\n",
      "\u001b[0;32m~/anaconda3/lib/python3.7/site-packages/todoist/api.py\u001b[0m in \u001b[0;36mcommit\u001b[0;34m(self, raise_on_error)\u001b[0m\n\u001b[1;32m    355\u001b[0m                 \u001b[0;32mfor\u001b[0m \u001b[0mk\u001b[0m\u001b[0;34m,\u001b[0m \u001b[0mv\u001b[0m \u001b[0;32min\u001b[0m \u001b[0mret\u001b[0m\u001b[0;34m[\u001b[0m\u001b[0;34m'sync_status'\u001b[0m\u001b[0;34m]\u001b[0m\u001b[0;34m.\u001b[0m\u001b[0mitems\u001b[0m\u001b[0;34m(\u001b[0m\u001b[0;34m)\u001b[0m\u001b[0;34m:\u001b[0m\u001b[0;34m\u001b[0m\u001b[0;34m\u001b[0m\u001b[0m\n\u001b[1;32m    356\u001b[0m                     \u001b[0;32mif\u001b[0m \u001b[0mv\u001b[0m \u001b[0;34m!=\u001b[0m \u001b[0;34m'ok'\u001b[0m\u001b[0;34m:\u001b[0m\u001b[0;34m\u001b[0m\u001b[0;34m\u001b[0m\u001b[0m\n\u001b[0;32m--> 357\u001b[0;31m                         \u001b[0;32mraise\u001b[0m \u001b[0mSyncError\u001b[0m\u001b[0;34m(\u001b[0m\u001b[0mk\u001b[0m\u001b[0;34m,\u001b[0m \u001b[0mv\u001b[0m\u001b[0;34m)\u001b[0m\u001b[0;34m\u001b[0m\u001b[0;34m\u001b[0m\u001b[0m\n\u001b[0m\u001b[1;32m    358\u001b[0m         \u001b[0;32mreturn\u001b[0m \u001b[0mret\u001b[0m\u001b[0;34m\u001b[0m\u001b[0;34m\u001b[0m\u001b[0m\n\u001b[1;32m    359\u001b[0m \u001b[0;34m\u001b[0m\u001b[0m\n",
      "\u001b[0;31mSyncError\u001b[0m: ('a5a7fe12-bf88-11e9-add0-784f438c6b59', {'error_tag': 'MAX_ITEMS_LIMIT_REACHED', 'error_code': 49, 'http_code': 403, 'error_extra': {}, 'error': 'Maximum number of items per user project limit reached'})"
     ]
    }
   ],
   "source": [
    "task1 = api.items.add('Task2')\n",
    "api.commit()\n",
    "print(task1)"
   ]
  }
 ],
 "metadata": {
  "kernelspec": {
   "display_name": "Python 3",
   "language": "python",
   "name": "python3"
  },
  "language_info": {
   "codemirror_mode": {
    "name": "ipython",
    "version": 3
   },
   "file_extension": ".py",
   "mimetype": "text/x-python",
   "name": "python",
   "nbconvert_exporter": "python",
   "pygments_lexer": "ipython3",
   "version": "3.7.6"
  }
 },
 "nbformat": 4,
 "nbformat_minor": 2
}
